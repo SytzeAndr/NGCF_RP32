{
  "nbformat": 4,
  "nbformat_minor": 0,
  "metadata": {
    "colab": {
      "name": "NGCF.ipynb",
      "provenance": [],
      "include_colab_link": true
    },
    "kernelspec": {
      "name": "python3",
      "language": "python",
      "display_name": "Python 3"
    },
    "pycharm": {
      "stem_cell": {
        "cell_type": "raw",
        "source": [],
        "metadata": {
          "collapsed": false
        }
      }
    },
    "accelerator": "GPU"
  },
  "cells": [
    {
      "cell_type": "markdown",
      "metadata": {
        "id": "view-in-github",
        "colab_type": "text"
      },
      "source": [
        "<a href=\"https://colab.research.google.com/github/SytzeAndr/NGCF_RP32/blob/master/NGCF.ipynb\" target=\"_parent\"><img src=\"https://colab.research.google.com/assets/colab-badge.svg\" alt=\"Open In Colab\"/></a>"
      ]
    },
    {
      "cell_type": "code",
      "metadata": {
        "id": "9Yt4bUlkamn5",
        "colab_type": "code",
        "colab": {}
      },
      "source": [
        "import numpy as np\n",
        "import random as rd\n",
        "from google.colab import drive"
      ],
      "execution_count": 0,
      "outputs": []
    },
    {
      "cell_type": "markdown",
      "metadata": {
        "id": "Ni4rEp2I06Rd",
        "colab_type": "text"
      },
      "source": [
        "**File loading**\n",
        "\n",
        "Here we use the Google Drive mountpoint to load files. For this to work, note the following:\n",
        "\n",
        "\n",
        "\n",
        "*   The first time you execute this, it will provide a link, which you need to follow and give permission for Colab to access your Google Drive.\n",
        "*   Make sure that the data is located in the folder `RP_data` which should be located in the root of your Drive."
      ]
    },
    {
      "cell_type": "code",
      "metadata": {
        "id": "-GuQIsFhz_O6",
        "colab_type": "code",
        "outputId": "da0badc2-6fb0-44c9-bd16-b788ef144031",
        "colab": {
          "base_uri": "https://localhost:8080/",
          "height": 121
        }
      },
      "source": [
        "drive.mount('/content/drive')\n",
        "data_path = './drive/My Drive/RP_data'"
      ],
      "execution_count": 2,
      "outputs": [
        {
          "output_type": "stream",
          "text": [
            "Go to this URL in a browser: https://accounts.google.com/o/oauth2/auth?client_id=947318989803-6bn6qk8qdgf4n4g3pfee6491hc0brc4i.apps.googleusercontent.com&redirect_uri=urn%3aietf%3awg%3aoauth%3a2.0%3aoob&response_type=code&scope=email%20https%3a%2f%2fwww.googleapis.com%2fauth%2fdocs.test%20https%3a%2f%2fwww.googleapis.com%2fauth%2fdrive%20https%3a%2f%2fwww.googleapis.com%2fauth%2fdrive.photos.readonly%20https%3a%2f%2fwww.googleapis.com%2fauth%2fpeopleapi.readonly\n",
            "\n",
            "Enter your authorization code:\n",
            "··········\n",
            "Mounted at /content/drive\n"
          ],
          "name": "stdout"
        }
      ]
    },
    {
      "cell_type": "markdown",
      "metadata": {
        "id": "aFlr-rxYnsid",
        "colab_type": "text"
      },
      "source": [
        "**DataReader class**\n",
        "\n",
        "The DataReader class is a utility class that will help loading the data, compute useful properties of the data and create sample batches."
      ]
    },
    {
      "cell_type": "code",
      "metadata": {
        "colab_type": "code",
        "id": "20UOLdQ9rdyX",
        "colab": {}
      },
      "source": [
        "class DataReader(object):\n",
        "  def __init__(self, path='./drive/My Drive/RP_data', batch_size=100):\n",
        "    self.path = path\n",
        "    self.batch_size = batch_size\n",
        "\n",
        "    train_file = path + '/train.txt'\n",
        "    test_file = path + '/test.txt'\n",
        "\n",
        "    self.n_train = 0\n",
        "    self.n_test = 0\n",
        "    self.exist_users = []\n",
        "    self.train_items = {}\n",
        "    self.test_items = {}\n",
        "\n",
        "    with open(train_file) as f:\n",
        "      for l in f.readlines():\n",
        "        if len(l) > 0:\n",
        "          l = l.strip('\\n')\n",
        "          items = [int(i) for i in l.split(' ')]\n",
        "          uid, train_items = items[0], items[1:]\n",
        "          self.exist_users.append(uid)\n",
        "          self.train_items[uid] = train_items\n",
        "          self.n_train += len(train_items)\n",
        "\n",
        "    with open(test_file) as f:\n",
        "      for l in f.readlines():\n",
        "        if len(l) > 0:\n",
        "          l = l.strip('\\n')\n",
        "          try:\n",
        "            items = [int(i) for i in l.split(' ')]\n",
        "            uid, test_items = items[0], items[1:]\n",
        "            self.exist_users.append(uid)\n",
        "            self.test_items[uid] = test_items\n",
        "            self.n_test += len(test_items)\n",
        "          except Exception:\n",
        "            continue\n",
        "\n",
        "    train_max_item = max([max(items) for items in list(self.train_items.values())])\n",
        "    test_max_item = max([max(items) for items in list(self.test_items.values())])\n",
        "    self.n_items = max(train_max_item, test_max_item)\n",
        "    self.n_users = max(self.exist_users)\n",
        "  \n",
        "\n",
        "  def sample(self):\n",
        "    if self.batch_size <= self.n_users:\n",
        "      users = rd.sample(self.exist_users, self.batch_size)\n",
        "    else:\n",
        "      users = [rd.choice(self.exist_users) for _ in range(self.batch_size)]\n",
        "\n",
        "\n",
        "    def sample_pos_items_for_u(u, num):\n",
        "      pos_items = self.train_items[u]\n",
        "      n_pos_items = len(pos_items)\n",
        "      pos_batch = []\n",
        "      while True:\n",
        "        if len(pos_batch) == num: break\n",
        "        pos_id = np.random.randint(low=0, high=n_pos_items, size=1)[0]\n",
        "        pos_i_id = pos_items[pos_id]\n",
        "\n",
        "        if pos_i_id not in pos_batch:\n",
        "          pos_batch.append(pos_i_id)\n",
        "      return pos_batch\n",
        "\n",
        "\n",
        "    def sample_neg_items_for_u(u, num):\n",
        "      neg_batch = []\n",
        "      while True:\n",
        "        if len(neg_batch) == num: break\n",
        "        neg_id = np.random.randint(low=0, high=self.n_items, size=1)[0]\n",
        "        if neg_id not in self.train_items[u] and neg_id not in neg_batch:\n",
        "          neg_batch.append(neg_id)\n",
        "      return neg_batch\n",
        "    \n",
        "\n",
        "    pos_items, neg_items = [], []\n",
        "    for u in users:\n",
        "      pos_items += sample_pos_items_for_u(u, 1)\n",
        "      neg_items += sample_neg_items_for_u(u, 1)\n",
        "\n",
        "    return users, pos_items, neg_items\n"
      ],
      "execution_count": 0,
      "outputs": []
    },
    {
      "cell_type": "code",
      "metadata": {
        "id": "P2iFaHvdvc8J",
        "colab_type": "code",
        "outputId": "9c68cec0-87cd-46f6-a27a-ae90619f7a9f",
        "colab": {
          "base_uri": "https://localhost:8080/",
          "height": 67
        }
      },
      "source": [
        "# small test to verify whether we can load data\n",
        "dataReader = DataReader(data_path, 10)\n",
        "dataReader.sample()"
      ],
      "execution_count": 4,
      "outputs": [
        {
          "output_type": "execute_result",
          "data": {
            "text/plain": [
              "([2136, 34642, 49678, 23405, 13774, 29363, 11747, 19613, 50779, 12386],\n",
              " [20109, 52584, 81791, 43301, 50511, 73907, 26633, 6637, 71637, 15380],\n",
              " [10254, 88692, 64505, 82402, 35173, 43933, 13209, 16307, 32177, 11700])"
            ]
          },
          "metadata": {
            "tags": []
          },
          "execution_count": 4
        }
      ]
    },
    {
      "cell_type": "markdown",
      "metadata": {
        "id": "frx1uCxdNYWU",
        "colab_type": "text"
      },
      "source": [
        "#The steps to take\n",
        "As a rough outline, we can sketch the steps to be taken to train a Neural Graph Collaborative Filtering system as follows.\n",
        "\n",
        "1. Implement the NGCF model\n",
        "  1. Create a user-item interaction graph from our data.\n",
        "  1. Create a NGCF Layer that can be used to perform a MessagePassing step.\n",
        "1. Train all the parameters\n",
        "  1. Construct the matrices W1_l, W2_l and E_l for each step l, initialize them with the Xavier Initializer.\n",
        "  1. Sample a batch from the training data. Apply L steps of message passing, and save all the matrices W1_{1..L}, W2_{1..L}, E_{1..L}, repeat until all training data are sampled once.\n",
        "  1. Construct the final embeddings for each user and item, by concatenating the embeddings for a user or item from each step, so **e_u** = **e_u^1** || ... || **e_u^L**\n",
        "  1. Using the final embeddings, compute the prediction for each (user, item) pair, and compute the BPR loss.\n",
        "  1. Use the BPR loss to update the matrices W1 and W2, repeat until <amount> epochs are done.\n",
        "1. Generate the test output, compute recall and ndgc, compare them to the Table 3\n",
        "  1. Use the trained matrices W1 and W2 to find the prediction values for each (user, item) pair in the test data.\n",
        "  1. Compute the recall and normalized discounted cumulative gain (ndgc)\n",
        "\n",
        "Since we have to compare results for step l, and the final embeddings are calculated by concatenation over the steps, we can simply perform all L steps (4 in this case), and then do the analysis over subsets of the W1 and W2 matrices.\n",
        "\n",
        "Hyperparameters to consider:\n",
        " - Negative slope of NGCFLayer#LeakyReLU\n",
        " - ...\n"
      ]
    },
    {
      "cell_type": "markdown",
      "metadata": {
        "id": "tn_xzVLBUaMS",
        "colab_type": "text"
      },
      "source": [
        "# step 1\n",
        "The initial embedding is already performed in the data sets and thus we can consider to already have our embedding table. In the paper's work, it is explained that in their NGCF framework the embeddings are refined by propagating them on the user-item interaction graph. \n",
        "\n",
        "This implies that we need to construct an interaction graph, and update its weights according to the message construction/message aggregation functions."
      ]
    },
    {
      "cell_type": "markdown",
      "metadata": {
        "id": "3z0bqsE0VsKc",
        "colab_type": "text"
      },
      "source": [
        "By using PyTorch and PyTorch Geometric (PyG) we are able to construct a graph neural network and perform various operations. We are planning to use this framework. \n",
        "\n",
        "## GCN with torch_geometric (PyG)\n",
        "Some of its steps are described in this blog post:\n",
        "https://towardsdatascience.com/hands-on-graph-neural-networks-with-pytorch-pytorch-geometric-359487e221a8\n",
        "\n",
        "There is also a google colab which trains a GCN to identify 'spammers'\n",
        "https://colab.research.google.com/github/zaidalyafeai/Notebooks/blob/master/Deep_GCN_Spam.ipynb#scrollTo=_4_eVOI2M4Uo"
      ]
    },
    {
      "cell_type": "markdown",
      "metadata": {
        "id": "4sUDqw3zY7AD",
        "colab_type": "text"
      },
      "source": [
        "**Importing torch_geometric 1.3.2**\n",
        "\n",
        "`torch_geometric` is a geometric deep learning extension library for PyTorch. We don't use the latest version (loaded by default by google colab) due to inconsistencies with PyTorch. This also means we have to downgrade a few other packages aswell."
      ]
    },
    {
      "cell_type": "code",
      "metadata": {
        "id": "m23H3JzIjE8E",
        "colab_type": "code",
        "outputId": "977d3b1f-1e56-4e2b-ee17-1a353f95e9d3",
        "colab": {
          "base_uri": "https://localhost:8080/",
          "height": 339
        }
      },
      "source": [
        "pip install torch===1.2.0 torchvision===0.4.0 -f https://download.pytorch.org/whl/torch_stable.html"
      ],
      "execution_count": 5,
      "outputs": [
        {
          "output_type": "stream",
          "text": [
            "Looking in links: https://download.pytorch.org/whl/torch_stable.html\n",
            "Collecting torch===1.2.0\n",
            "\u001b[?25l  Downloading https://files.pythonhosted.org/packages/30/57/d5cceb0799c06733eefce80c395459f28970ebb9e896846ce96ab579a3f1/torch-1.2.0-cp36-cp36m-manylinux1_x86_64.whl (748.8MB)\n",
            "\u001b[K     |████████████████████████████████| 748.9MB 23kB/s \n",
            "\u001b[?25hCollecting torchvision===0.4.0\n",
            "\u001b[?25l  Downloading https://files.pythonhosted.org/packages/06/e6/a564eba563f7ff53aa7318ff6aaa5bd8385cbda39ed55ba471e95af27d19/torchvision-0.4.0-cp36-cp36m-manylinux1_x86_64.whl (8.8MB)\n",
            "\u001b[K     |████████████████████████████████| 8.8MB 14.5MB/s \n",
            "\u001b[?25hRequirement already satisfied: numpy in /usr/local/lib/python3.6/dist-packages (from torch===1.2.0) (1.18.2)\n",
            "Requirement already satisfied: six in /usr/local/lib/python3.6/dist-packages (from torchvision===0.4.0) (1.12.0)\n",
            "Requirement already satisfied: pillow>=4.1.1 in /usr/local/lib/python3.6/dist-packages (from torchvision===0.4.0) (7.0.0)\n",
            "Installing collected packages: torch, torchvision\n",
            "  Found existing installation: torch 1.4.0\n",
            "    Uninstalling torch-1.4.0:\n",
            "      Successfully uninstalled torch-1.4.0\n",
            "  Found existing installation: torchvision 0.5.0\n",
            "    Uninstalling torchvision-0.5.0:\n",
            "      Successfully uninstalled torchvision-0.5.0\n",
            "Successfully installed torch-1.2.0 torchvision-0.4.0\n"
          ],
          "name": "stdout"
        }
      ]
    },
    {
      "cell_type": "code",
      "metadata": {
        "id": "MfAzbMDlfg93",
        "colab_type": "code",
        "outputId": "770dc166-0666-40ee-daed-5ccb483c5d35",
        "colab": {
          "base_uri": "https://localhost:8080/",
          "height": 34
        }
      },
      "source": [
        "import torch\n",
        "# we use torch version 1.2.0 instead of the latest due to dependency errors\n",
        "print(torch.__version__)"
      ],
      "execution_count": 6,
      "outputs": [
        {
          "output_type": "stream",
          "text": [
            "1.2.0\n"
          ],
          "name": "stdout"
        }
      ]
    },
    {
      "cell_type": "code",
      "metadata": {
        "id": "0mo9WkaqnqEI",
        "colab_type": "code",
        "outputId": "62200002-a6fd-4136-b1e4-865060031635",
        "colab": {
          "base_uri": "https://localhost:8080/",
          "height": 675
        }
      },
      "source": [
        "# these were the corresponding versions for torch-geometric 1.3.2, released 4 oct 2019, which runs on torch 1.2.0.\n",
        "# grab some coffee, this might take a while\n",
        "!pip install torch-scatter==1.3.1\n",
        "!pip install torch-sparse==0.4.0\n",
        "!pip install torch-cluster==1.4.4\n",
        "!pip install torch-spline-conv==1.1.0\n",
        "!pip install torch-geometric==1.3.2"
      ],
      "execution_count": 17,
      "outputs": [
        {
          "output_type": "stream",
          "text": [
            "Requirement already satisfied: torch-scatter==1.3.1 in /usr/local/lib/python3.6/dist-packages (1.3.1)\n",
            "Requirement already satisfied: torch-sparse==0.4.0 in /usr/local/lib/python3.6/dist-packages (0.4.0)\n",
            "Requirement already satisfied: scipy in /usr/local/lib/python3.6/dist-packages (from torch-sparse==0.4.0) (1.4.1)\n",
            "Requirement already satisfied: numpy>=1.13.3 in /usr/local/lib/python3.6/dist-packages (from scipy->torch-sparse==0.4.0) (1.18.2)\n",
            "Collecting torch-cluster==1.4.4\n",
            "  Using cached https://files.pythonhosted.org/packages/bd/5f/01c5799cd1f81f9956f03a0e1d9a861e020a598dd411d9bd3c3c1dd5b8a4/torch_cluster-1.4.4.tar.gz\n",
            "Requirement already satisfied: scipy in /usr/local/lib/python3.6/dist-packages (from torch-cluster==1.4.4) (1.4.1)\n",
            "Requirement already satisfied: numpy>=1.13.3 in /usr/local/lib/python3.6/dist-packages (from scipy->torch-cluster==1.4.4) (1.18.2)\n",
            "Building wheels for collected packages: torch-cluster\n",
            "  Building wheel for torch-cluster (setup.py) ... \u001b[?25l\u001b[?25hdone\n",
            "  Created wheel for torch-cluster: filename=torch_cluster-1.4.4-cp36-cp36m-linux_x86_64.whl size=14436508 sha256=f80ca9069c2b1368506efdb8fe601f8769a85911b44336b0cd8a655ea5394d24\n",
            "  Stored in directory: /root/.cache/pip/wheels/20/7b/ab/b3e266920055d1e51988f93a99ef8df62e399b234c8d50527f\n",
            "Successfully built torch-cluster\n",
            "Installing collected packages: torch-cluster\n",
            "Successfully installed torch-cluster-1.4.4\n",
            "Requirement already satisfied: torch-spline-conv==1.1.0 in /usr/local/lib/python3.6/dist-packages (1.1.0)\n",
            "Requirement already satisfied: torch-geometric==1.3.2 in /usr/local/lib/python3.6/dist-packages (1.3.2)\n",
            "Requirement already satisfied: scikit-learn in /usr/local/lib/python3.6/dist-packages (from torch-geometric==1.3.2) (0.22.2.post1)\n",
            "Requirement already satisfied: requests in /usr/local/lib/python3.6/dist-packages (from torch-geometric==1.3.2) (2.21.0)\n",
            "Requirement already satisfied: h5py in /usr/local/lib/python3.6/dist-packages (from torch-geometric==1.3.2) (2.10.0)\n",
            "Requirement already satisfied: pandas in /usr/local/lib/python3.6/dist-packages (from torch-geometric==1.3.2) (1.0.3)\n",
            "Requirement already satisfied: plyfile in /usr/local/lib/python3.6/dist-packages (from torch-geometric==1.3.2) (0.7.2)\n",
            "Requirement already satisfied: numpy in /usr/local/lib/python3.6/dist-packages (from torch-geometric==1.3.2) (1.18.2)\n",
            "Requirement already satisfied: scipy in /usr/local/lib/python3.6/dist-packages (from torch-geometric==1.3.2) (1.4.1)\n",
            "Requirement already satisfied: googledrivedownloader in /usr/local/lib/python3.6/dist-packages (from torch-geometric==1.3.2) (0.4)\n",
            "Requirement already satisfied: networkx in /usr/local/lib/python3.6/dist-packages (from torch-geometric==1.3.2) (2.4)\n",
            "Requirement already satisfied: rdflib in /usr/local/lib/python3.6/dist-packages (from torch-geometric==1.3.2) (4.2.2)\n",
            "Requirement already satisfied: joblib>=0.11 in /usr/local/lib/python3.6/dist-packages (from scikit-learn->torch-geometric==1.3.2) (0.14.1)\n",
            "Requirement already satisfied: idna<2.9,>=2.5 in /usr/local/lib/python3.6/dist-packages (from requests->torch-geometric==1.3.2) (2.8)\n",
            "Requirement already satisfied: urllib3<1.25,>=1.21.1 in /usr/local/lib/python3.6/dist-packages (from requests->torch-geometric==1.3.2) (1.24.3)\n",
            "Requirement already satisfied: chardet<3.1.0,>=3.0.2 in /usr/local/lib/python3.6/dist-packages (from requests->torch-geometric==1.3.2) (3.0.4)\n",
            "Requirement already satisfied: certifi>=2017.4.17 in /usr/local/lib/python3.6/dist-packages (from requests->torch-geometric==1.3.2) (2019.11.28)\n",
            "Requirement already satisfied: six in /usr/local/lib/python3.6/dist-packages (from h5py->torch-geometric==1.3.2) (1.12.0)\n",
            "Requirement already satisfied: pytz>=2017.2 in /usr/local/lib/python3.6/dist-packages (from pandas->torch-geometric==1.3.2) (2018.9)\n",
            "Requirement already satisfied: python-dateutil>=2.6.1 in /usr/local/lib/python3.6/dist-packages (from pandas->torch-geometric==1.3.2) (2.8.1)\n",
            "Requirement already satisfied: decorator>=4.3.0 in /usr/local/lib/python3.6/dist-packages (from networkx->torch-geometric==1.3.2) (4.4.2)\n",
            "Requirement already satisfied: isodate in /usr/local/lib/python3.6/dist-packages (from rdflib->torch-geometric==1.3.2) (0.6.0)\n",
            "Requirement already satisfied: pyparsing in /usr/local/lib/python3.6/dist-packages (from rdflib->torch-geometric==1.3.2) (2.4.6)\n"
          ],
          "name": "stdout"
        }
      ]
    },
    {
      "cell_type": "code",
      "metadata": {
        "id": "ErcV2T7PWLDd",
        "colab_type": "code",
        "colab": {}
      },
      "source": [
        "import torch\n",
        "import torch_cluster\n",
        "import torch_geometric"
      ],
      "execution_count": 0,
      "outputs": []
    },
    {
      "cell_type": "code",
      "metadata": {
        "id": "Yp8OSLE3qZnC",
        "colab_type": "code",
        "outputId": "c7f58a77-0b0c-4507-cbbf-0f64ef071e99",
        "colab": {
          "base_uri": "https://localhost:8080/",
          "height": 34
        }
      },
      "source": [
        "# verify that torch geometric is imported, should be 1.3.2\n",
        "print(torch_geometric.__version__)"
      ],
      "execution_count": 19,
      "outputs": [
        {
          "output_type": "stream",
          "text": [
            "1.3.2\n"
          ],
          "name": "stdout"
        }
      ]
    },
    {
      "cell_type": "markdown",
      "metadata": {
        "id": "vsVTP8uXrkNV",
        "colab_type": "text"
      },
      "source": [
        "**Creating the interaction graph**\n",
        "\n",
        "First we create an interaction graph. The Data object from torch_geometric represents a graph structure, and as such, we should create one given our data."
      ]
    },
    {
      "cell_type": "code",
      "metadata": {
        "pycharm": {
          "name": "#%%\n"
        },
        "id": "9xTi767FV_du",
        "colab_type": "code",
        "colab": {}
      },
      "source": [
        "from torch_geometric.data import InMemoryDataset, Data"
      ],
      "execution_count": 0,
      "outputs": []
    },
    {
      "cell_type": "code",
      "metadata": {
        "pycharm": {
          "name": "#%%\n"
        },
        "id": "l88v0WybV_dx",
        "colab_type": "code",
        "colab": {}
      },
      "source": [
        "# get data\n",
        "dataReader = DataReader(batch_size=100)"
      ],
      "execution_count": 0,
      "outputs": []
    },
    {
      "cell_type": "code",
      "metadata": {
        "pycharm": {
          "name": "#%%\n"
        },
        "id": "31Ka5fcKV_dz",
        "colab_type": "code",
        "colab": {}
      },
      "source": [
        "class DataConstruction(InMemoryDataset):\n",
        "  def __init__(self, root, transform=None, pre_transform=None):\n",
        "    super(DataConstruction, self).__init__(root, transform, pre_transform)\n",
        "    # self.data, self.slices = torch.load(self.processed_paths[0])\n",
        "    self.data_list = None\n",
        "  @property\n",
        "  def raw_file_names(self):\n",
        "    return []\n",
        "  \n",
        "  @property\n",
        "  def processed_file_names(self):\n",
        "    return [''] #?\n",
        "  \n",
        "  def download(self):\n",
        "    pass\n",
        "  \n",
        "  def process(self):\n",
        "    edges = []\n",
        "    # define an edge for every user and item\n",
        "    for user in range(dataReader.n_users):\n",
        "      pos_items = dataReader.train_items[user]\n",
        "      for item in pos_items:\n",
        "        # increase the item id by the number of users to distinct the nodes from users\n",
        "        edges.append([user, item + dataReader.n_users])\n",
        "        edges.append([item + dataReader.n_users, user])\n",
        "\n",
        "    # following example from https://pytorch-geometric.readthedocs.io/en/latest/notes/introduction.html\n",
        "    edge_index = torch.tensor(edges, dtype=torch.long).t().contiguous()\n",
        "\n",
        "    # we can extend x with any number of features we want.\n",
        "    # for now, we only have it include its corresponding userid or itemid, but we might want to extend this\n",
        "    x = torch.tensor(list(range(dataReader.n_users)) + list(range(dataReader.n_items)), dtype=torch.long)\n",
        "\n",
        "    # data is a representation of the directed graph\n",
        "    self.data_list = [Data(x=x, edge_index=edge_index)]\n",
        "    data, slices = self.collate(self.data_list)\n",
        "    torch.save((data, slices), './drive/My Drive/RP_data/processed.dataset')"
      ],
      "execution_count": 0,
      "outputs": []
    },
    {
      "cell_type": "code",
      "metadata": {
        "id": "08K8QWBqHamS",
        "colab_type": "code",
        "colab": {}
      },
      "source": [
        "Data_Construction = DataConstruction(root='')\n",
        "Data_Construction.process()"
      ],
      "execution_count": 0,
      "outputs": []
    },
    {
      "cell_type": "code",
      "metadata": {
        "id": "U-m1nU38Z48c",
        "colab_type": "code",
        "colab": {}
      },
      "source": [
        "data = Data_Construction.data_list[0]"
      ],
      "execution_count": 0,
      "outputs": []
    },
    {
      "cell_type": "code",
      "metadata": {
        "id": "u9VJLYk9KvHg",
        "colab_type": "code",
        "colab": {}
      },
      "source": [
        "# from torch_geometric.data import Data\n",
        "# \n",
        "# # get data\n",
        "# dataReader = DataReader(batch_size=100)\n",
        "# edges = []\n",
        "# # define an edge for every user and item\n",
        "# for user in range(dataReader.n_users):\n",
        "#   pos_items = dataReader.train_items[user]\n",
        "#   for item in pos_items:\n",
        "#     # increase the item id by the number of users to distinct the nodes from users\n",
        "#     edges.append([user, item + dataReader.n_users])\n",
        "#     edges.append([item + dataReader.n_users, user])\n",
        "# \n",
        "# # following example from https://pytorch-geometric.readthedocs.io/en/latest/notes/introduction.html\n",
        "# edge_index = torch.tensor(edges, dtype=torch.long).t().contiguous()\n",
        "# \n",
        "# # we can extend x with any number of features we want.\n",
        "# # for now, we only have it include its corresponding userid or itemid, but we might want to extend this\n",
        "# x = torch.tensor(list(range(dataReader.n_users)) + list(range(dataReader.n_items)), dtype=torch.long)\n",
        "# \n",
        "# # data is a representation of the directed graph\n",
        "# data = Data(x=x, edge_index=edge_index)\n",
        "\n"
      ],
      "execution_count": 0,
      "outputs": []
    },
    {
      "cell_type": "markdown",
      "metadata": {
        "id": "mLD-yhQHDHel",
        "colab_type": "text"
      },
      "source": [
        "Data is a representation of our interaction graph"
      ]
    },
    {
      "cell_type": "code",
      "metadata": {
        "id": "pBcxk1KyA9zn",
        "colab_type": "code",
        "outputId": "47ac190e-3252-46f0-b5b1-8d6be59b8f14",
        "colab": {
          "base_uri": "https://localhost:8080/",
          "height": 126
        }
      },
      "source": [
        "# torch_geometric.data.Data provides a number of utility functions\n",
        "# these prints are a check to verify if our graph seems valid\n",
        "print(data.is_undirected())\n",
        "print(data.is_directed())\n",
        "print(data.num_edges)\n",
        "print(data.num_nodes)\n",
        "print(data.contains_isolated_nodes())\n",
        "print(data.contains_self_loops())"
      ],
      "execution_count": 0,
      "outputs": [
        {
          "output_type": "stream",
          "text": [
            "True\n",
            "False\n",
            "4761412\n",
            "144240\n",
            "False\n",
            "False\n"
          ],
          "name": "stdout"
        }
      ]
    },
    {
      "cell_type": "markdown",
      "metadata": {
        "id": "rsWQW24mC23O",
        "colab_type": "text"
      },
      "source": [
        "# step 2"
      ]
    },
    {
      "cell_type": "markdown",
      "metadata": {
        "id": "S4xtsOWbHSkO",
        "colab_type": "text"
      },
      "source": [
        "First we initialize the initial weights and embeddings. This is performed by [Xavier initialization](http://proceedings.mlr.press/v9/glorot10a/glorot10a.pdf)."
      ]
    },
    {
      "cell_type": "code",
      "metadata": {
        "id": "7HZvQZG9H2bb",
        "colab_type": "code",
        "pycharm": {
          "name": "#%%\n"
        },
        "colab": {}
      },
      "source": [
        "import math"
      ],
      "execution_count": 0,
      "outputs": []
    },
    {
      "cell_type": "code",
      "metadata": {
        "pycharm": {
          "name": "#%%\n"
        },
        "id": "3YA6bVLWv-b2",
        "colab_type": "code",
        "colab": {}
      },
      "source": [
        "def xavier(m, h):\n",
        "  return torch.Tensor(m, h).uniform_(-1, 1)*math.sqrt(6./(m+h))\n",
        "\n",
        "class NGCF(object):\n",
        "  def __init__(self, n_users, n_items, emb_dim=64, n_layers=4):\n",
        "    self.n_users = n_users\n",
        "    self.n_items = n_items\n",
        "    self.emb_dim = emb_dim\n",
        "    self.weight_size = list(np.repeat(emb_dim, n_layers))\n",
        "    self.n_layers = n_layers\n",
        "\n",
        "  def _init_weights(self):\n",
        "    all_weights = dict()\n",
        "    all_weights['user_embedding'] = xavier(self.n_users, self.emb_dim) \n",
        "    all_weights['item_embedding'] = xavier(self.n_items, self.emb_dim)\n",
        "    self.weight_size_list = [self.emb_dim] + self.weight_size\n",
        "    for k in range(self.n_layers):\n",
        "      all_weights['W_gc_%d' % k] = xavier(self.weight_size_list[k], self.weight_size_list[k+1])\n",
        "      all_weights['b_gc_%d' % k] = xavier(1, self.weight_size_list[k+1])\n",
        "      all_weights['W_bi_%d' % k] = xavier(self.weight_size_list[k], self.weight_size_list[k + 1])\n",
        "      all_weights['b_bi_%d' % k] = xavier(1, self.weight_size_list[k + 1])\n",
        "      all_weights['W_mlp_%d' % k] = xavier(self.weight_size_list[k], self.weight_size_list[k+1])\n",
        "      all_weights['b_mlp_%d' % k] = xavier(1, self.weight_size_list[k+1])\n",
        "    return all_weights\n",
        "\n"
      ],
      "execution_count": 0,
      "outputs": []
    },
    {
      "cell_type": "code",
      "metadata": {
        "id": "DxRyv2Lh3pg4",
        "colab_type": "code",
        "outputId": "3f4bb562-4779-431b-fe76-518a2a3e16d6",
        "colab": {
          "base_uri": "https://localhost:8080/",
          "height": 73
        }
      },
      "source": [
        "# set initial weight\n",
        "# emd_dim and n_layers can be tweaked to our liking\n",
        "ncfg_obj = NGCF(n_users=dataReader.n_users, n_items=dataReader.n_items, emb_dim=64, n_layers=4)\n",
        "\n",
        "# store all our initial weights in some dict object\n",
        "ncfg_weights = ncfg_obj._init_weights()\n",
        "\n",
        "# optional prints: check the amount of user embeddings as a verification\n",
        "print(ncfg_weights.keys())\n",
        "print(len(ncfg_weights['user_embedding']))"
      ],
      "execution_count": 0,
      "outputs": [
        {
          "output_type": "stream",
          "text": [
            "dict_keys(['user_embedding', 'item_embedding', 'W_gc_0', 'b_gc_0', 'W_bi_0', 'b_bi_0', 'W_mlp_0', 'b_mlp_0', 'W_gc_1', 'b_gc_1', 'W_bi_1', 'b_bi_1', 'W_mlp_1', 'b_mlp_1', 'W_gc_2', 'b_gc_2', 'W_bi_2', 'b_bi_2', 'W_mlp_2', 'b_mlp_2', 'W_gc_3', 'b_gc_3', 'W_bi_3', 'b_bi_3', 'W_mlp_3', 'b_mlp_3'])\n",
            "52642\n"
          ],
          "name": "stdout"
        }
      ]
    },
    {
      "cell_type": "markdown",
      "metadata": {
        "id": "krx6lfTGEqB7",
        "colab_type": "text"
      },
      "source": [
        "Message passing, constructing and aggregation aswell as training neural networks is all included in the `torch_geometric` package.\n",
        "\n",
        "\n",
        "https://pytorch-geometric.readthedocs.io/en/latest/modules/nn.html"
      ]
    },
    {
      "cell_type": "markdown",
      "metadata": {
        "id": "KDlCsjl7Spjl",
        "colab_type": "text"
      },
      "source": [
        "\n",
        "For each user-item pair (u,i), we define the message from i to u as\n",
        "\n",
        "$m_{u \\leftarrow i} = \\dfrac{1}{\\sqrt{|N_u||N_i|}} (W_1 e_i + W_2(e_i \\odot e_u))$\n",
        "\n",
        "Where $N_u, N_i$ are the first hop neighbors of $u$ and $i$, $W_1, W_2$ are trainable weight matrices to distill useful information for propagation, and $e_i$ and $e_u$ are embeddings of the users and items. Note that in the special case where $u == i$, the second term is dropped.\n",
        "\n",
        "The embedding for a user (or item) is updated through message aggregation as \n",
        "\n",
        "$e_u^{(l)} = LeakyReLU(m_{u \\leftarrow u} + \\sum_{i \\in N_u} m_{u \\leftarrow i})$\n",
        "\n",
        "If the graph is constructed properly, this is simply a summation over all edges (when selfloops are included), followed by a LeakyReLU activiation."
      ]
    },
    {
      "cell_type": "code",
      "metadata": {
        "id": "FHwG78ZV3-4o",
        "colab_type": "code",
        "colab": {}
      },
      "source": [
        "from torch.nn import LeakyReLU, Linear\n",
        "from torch_geometric.nn import MessagePassing\n",
        "from torch_geometric.utils import remove_self_loops, add_self_loops\n",
        "\n",
        "# define our NGCF layer\n",
        "class NGCFLayer(MessagePassing):\n",
        "  def __init__(self, embed_size):\n",
        "    super(NGCFLayer, self).__init__(aggr='add') # Summation as aggregation\n",
        "    # The W1 matrix\n",
        "    self.lin1 = Linear(embed_size, embed_size, bias=False)\n",
        "    # The W2 matrix\n",
        "    self.lin2 = Linear(embed_size, embed_size, bias=False)\n",
        "    self.act = LeakyReLU()\n",
        "\n",
        "  def forward(self, x, edge_index):\n",
        "    # Add self loops\n",
        "    edge_index, _ = remove_self_loops(edge_index)\n",
        "    edge_index, _ = add_self_loops(edge_index, num_nodes=x.size(0))\n",
        "\n",
        "    # Compute normalization\n",
        "    row, col = edge_index\n",
        "    deg = degree(row, x.size(0), dtype=x.dtype)\n",
        "    deg_inv_dqrt = deg.pow(-0.5)\n",
        "    norm = deg_inv_sqrt[row] * deg_inv_sqrt[col]\n",
        "\n",
        "    return self.propagate(edge_index, size=(x.size(0), x.size(0)), x=x, norm=norm)\n",
        "  \n",
        "  def message(self, x_i, x_j, norm):\n",
        "    # Construct message\n",
        "    message = self.lin1(x_j)\n",
        "    # Only add the second term if it is not a self loop\n",
        "    if x_i.data_ptr() != x_j.data_ptr():\n",
        "      message += self.lin2(torch.mul(x_i, x_j))\n",
        "    return message\n",
        "\n",
        "  def update(self, aggr_out):\n",
        "    # Return the LeakyReLU result\n",
        "    return self.act(aggr_out)\n",
        "\n",
        "\n",
        "# ngcf_layer = NGCFLayer(embed_size=64)"
      ],
      "execution_count": 0,
      "outputs": []
    },
    {
      "cell_type": "code",
      "metadata": {
        "id": "xMYQru5BUmku",
        "colab_type": "code",
        "colab": {}
      },
      "source": [
        "## Define our NN using the NGCF layer definition\n",
        "\n",
        "embed_size = 64\n",
        "batch_size = 100\n",
        "num_epochs = 30\n",
        "\n",
        "class Net(torch.nn.Module):\n",
        "  def __init__(self, n_layers):\n",
        "    super(Net, self).__init__()\n",
        "\n",
        "    self.ncgf_layers = []\n",
        "    # linear_layers = []\n",
        "    for i in range(n_layers):\n",
        "      self.ncgf_layers.append(NGCFLayer(embed_size))\n",
        "      # linear_layers.append(self.ncgf_layers[i].lin1)\n",
        "      # linear_layers.append(self.ncgf_layers[i].lin2)\n",
        "    self.net = torch.nn.Sequential(*self.ncgf_layers)\n",
        "    \n",
        "  def forward(self, data):\n",
        "    x, edge_index, batch = data.x, data.edge_index, data.batch\n",
        "    for layer in self.ncgf_layers:\n",
        "      x = layer(x, edge_index)\n",
        "    return x"
      ],
      "execution_count": 0,
      "outputs": []
    },
    {
      "cell_type": "code",
      "metadata": {
        "id": "ZXNdvjELav7e",
        "colab_type": "code",
        "outputId": "13a38883-e8e7-4fb5-c802-6b946d23037c",
        "colab": {
          "base_uri": "https://localhost:8080/",
          "height": 391
        }
      },
      "source": [
        "from torch.utils.data import InMemoryDataSet\n",
        "## todo: create a proper dataset object\n",
        "## todo: dataset should be of type InMemoryDataSet object for this to work\n",
        "dataset = InMemoryDataSet(data=data)"
      ],
      "execution_count": 0,
      "outputs": [
        {
          "output_type": "error",
          "ename": "ImportError",
          "evalue": "ignored",
          "traceback": [
            "\u001b[0;31m---------------------------------------------------------------------------\u001b[0m",
            "\u001b[0;31mImportError\u001b[0m                               Traceback (most recent call last)",
            "\u001b[0;32m<ipython-input-90-c629ba3d00cf>\u001b[0m in \u001b[0;36m<module>\u001b[0;34m()\u001b[0m\n\u001b[0;32m----> 1\u001b[0;31m \u001b[0;32mfrom\u001b[0m \u001b[0mtorch\u001b[0m\u001b[0;34m.\u001b[0m\u001b[0mutils\u001b[0m\u001b[0;34m.\u001b[0m\u001b[0mdata\u001b[0m \u001b[0;32mimport\u001b[0m \u001b[0mInMemoryDataSet\u001b[0m\u001b[0;34m\u001b[0m\u001b[0;34m\u001b[0m\u001b[0m\n\u001b[0m\u001b[1;32m      2\u001b[0m \u001b[0;31m## todo: create a proper dataset\u001b[0m\u001b[0;34m\u001b[0m\u001b[0;34m\u001b[0m\u001b[0;34m\u001b[0m\u001b[0m\n\u001b[1;32m      3\u001b[0m \u001b[0;31m## todo: dataset should be of type InMemoryDataSet object for this to work\u001b[0m\u001b[0;34m\u001b[0m\u001b[0;34m\u001b[0m\u001b[0;34m\u001b[0m\u001b[0m\n\u001b[1;32m      4\u001b[0m \u001b[0mdataset\u001b[0m \u001b[0;34m=\u001b[0m \u001b[0mInMemoryDataSet\u001b[0m\u001b[0;34m(\u001b[0m\u001b[0mdata\u001b[0m\u001b[0;34m=\u001b[0m\u001b[0mdata\u001b[0m\u001b[0;34m)\u001b[0m\u001b[0;34m\u001b[0m\u001b[0;34m\u001b[0m\u001b[0m\n",
            "\u001b[0;31mImportError\u001b[0m: cannot import name 'InMemoryDataSet'",
            "",
            "\u001b[0;31m---------------------------------------------------------------------------\u001b[0;32m\nNOTE: If your import is failing due to a missing package, you can\nmanually install dependencies using either !pip or !apt.\n\nTo view examples of installing some common dependencies, click the\n\"Open Examples\" button below.\n\u001b[0;31m---------------------------------------------------------------------------\u001b[0m\n"
          ]
        }
      ]
    },
    {
      "cell_type": "code",
      "metadata": {
        "id": "Bxk0C8UVWd4w",
        "colab_type": "code",
        "outputId": "c6dc883e-67f9-4787-be6d-8d4aaff12a24",
        "colab": {
          "base_uri": "https://localhost:8080/",
          "height": 389
        }
      },
      "source": [
        "# define the training procedure\n",
        "from torch.utils.data import DataLoader\n",
        "\n",
        "def train():\n",
        "  model.train()\n",
        "  loss_all = 0\n",
        "  for dataset in train_loader:\n",
        "    dataset = dataset.to(device)\n",
        "    optimizer.zero_grad()\n",
        "    output = model(dataset)\n",
        "    label = dataset.y.to(device)\n",
        "    loss = crit(output, label)\n",
        "    loss.backward()\n",
        "    loss_all += dataset.num_graphs * loss_item()\n",
        "    optimizer.step()\n",
        "  return loss_all / len(train_loader)\n",
        "\n",
        "# to enable running on the GPU in google colab: \n",
        "# Runtime -> select Change runtime type -> select GPU and hit Save\n",
        "device = torch.device('cuda')\n",
        "model = Net(n_layers=4).to(device)\n",
        "optimizer = torch.optim.Adam(model.parameters(), lr=0.005)\n",
        "crit = torch.nn.BCELoss()\n",
        "\n",
        "train_loader = DataLoader(dataset, batch_size=batch_size, shuffle=True)\n",
        "\n"
      ],
      "execution_count": 0,
      "outputs": [
        {
          "output_type": "error",
          "ename": "ImportError",
          "evalue": "ignored",
          "traceback": [
            "\u001b[0;31m---------------------------------------------------------------------------\u001b[0m",
            "\u001b[0;31mImportError\u001b[0m                               Traceback (most recent call last)",
            "\u001b[0;32m<ipython-input-88-e214700370b6>\u001b[0m in \u001b[0;36m<module>\u001b[0;34m()\u001b[0m\n\u001b[1;32m      1\u001b[0m \u001b[0;32mfrom\u001b[0m \u001b[0mtorch\u001b[0m\u001b[0;34m.\u001b[0m\u001b[0mutils\u001b[0m\u001b[0;34m.\u001b[0m\u001b[0mdata\u001b[0m \u001b[0;32mimport\u001b[0m \u001b[0mDataLoader\u001b[0m\u001b[0;34m\u001b[0m\u001b[0;34m\u001b[0m\u001b[0m\n\u001b[0;32m----> 2\u001b[0;31m \u001b[0;32mfrom\u001b[0m \u001b[0mtorch\u001b[0m\u001b[0;34m.\u001b[0m\u001b[0mutils\u001b[0m\u001b[0;34m.\u001b[0m\u001b[0mdata\u001b[0m \u001b[0;32mimport\u001b[0m \u001b[0mInMemoryDataSet\u001b[0m\u001b[0;34m\u001b[0m\u001b[0;34m\u001b[0m\u001b[0m\n\u001b[0m\u001b[1;32m      3\u001b[0m \u001b[0;34m\u001b[0m\u001b[0m\n\u001b[1;32m      4\u001b[0m \u001b[0;32mdef\u001b[0m \u001b[0mtrain\u001b[0m\u001b[0;34m(\u001b[0m\u001b[0;34m)\u001b[0m\u001b[0;34m:\u001b[0m\u001b[0;34m\u001b[0m\u001b[0;34m\u001b[0m\u001b[0m\n\u001b[1;32m      5\u001b[0m   \u001b[0mmodel\u001b[0m\u001b[0;34m.\u001b[0m\u001b[0mtrain\u001b[0m\u001b[0;34m(\u001b[0m\u001b[0;34m)\u001b[0m\u001b[0;34m\u001b[0m\u001b[0;34m\u001b[0m\u001b[0m\n",
            "\u001b[0;31mImportError\u001b[0m: cannot import name 'InMemoryDataSet'",
            "",
            "\u001b[0;31m---------------------------------------------------------------------------\u001b[0;32m\nNOTE: If your import is failing due to a missing package, you can\nmanually install dependencies using either !pip or !apt.\n\nTo view examples of installing some common dependencies, click the\n\"Open Examples\" button below.\n\u001b[0;31m---------------------------------------------------------------------------\u001b[0m\n"
          ]
        }
      ]
    },
    {
      "cell_type": "code",
      "metadata": {
        "id": "Y1v6WAlhIeag",
        "colab_type": "code",
        "outputId": "e30dfd4a-92d8-401b-9eb1-45d8e7829208",
        "colab": {
          "base_uri": "https://localhost:8080/",
          "height": 72
        }
      },
      "source": [
        "# get insight in some variables before we start the training procedure\n",
        "print(\"parameters\")\n",
        "print(model.parameters())\n",
        "\n",
        "num_epochs = 1\n",
        "\n",
        "print(\"num_epochs:\", num_epochs)"
      ],
      "execution_count": 0,
      "outputs": [
        {
          "output_type": "stream",
          "text": [
            "parameters\n",
            "<generator object Module.parameters at 0x7f1e961b77d8>\n",
            "num_epochs: 1\n"
          ],
          "name": "stdout"
        }
      ]
    },
    {
      "cell_type": "code",
      "metadata": {
        "id": "u3EF-phzIYhZ",
        "colab_type": "code",
        "outputId": "a17c4ad6-890f-467e-f98f-f533e8d8df7d",
        "colab": {
          "base_uri": "https://localhost:8080/",
          "height": 360
        }
      },
      "source": [
        "for epoch in range(num_epochs):\n",
        "  train()"
      ],
      "execution_count": 0,
      "outputs": [
        {
          "output_type": "error",
          "ename": "TypeError",
          "evalue": "ignored",
          "traceback": [
            "\u001b[0;31m---------------------------------------------------------------------------\u001b[0m",
            "\u001b[0;31mTypeError\u001b[0m                                 Traceback (most recent call last)",
            "\u001b[0;32m<ipython-input-85-baae2083961a>\u001b[0m in \u001b[0;36m<module>\u001b[0;34m()\u001b[0m\n\u001b[1;32m      1\u001b[0m \u001b[0;32mfor\u001b[0m \u001b[0mepoch\u001b[0m \u001b[0;32min\u001b[0m \u001b[0mrange\u001b[0m\u001b[0;34m(\u001b[0m\u001b[0mnum_epochs\u001b[0m\u001b[0;34m)\u001b[0m\u001b[0;34m:\u001b[0m\u001b[0;34m\u001b[0m\u001b[0;34m\u001b[0m\u001b[0m\n\u001b[0;32m----> 2\u001b[0;31m   \u001b[0mtrain\u001b[0m\u001b[0;34m(\u001b[0m\u001b[0;34m)\u001b[0m\u001b[0;34m\u001b[0m\u001b[0;34m\u001b[0m\u001b[0m\n\u001b[0m",
            "\u001b[0;32m<ipython-input-84-04477815e135>\u001b[0m in \u001b[0;36mtrain\u001b[0;34m()\u001b[0m\n\u001b[1;32m      4\u001b[0m   \u001b[0mmodel\u001b[0m\u001b[0;34m.\u001b[0m\u001b[0mtrain\u001b[0m\u001b[0;34m(\u001b[0m\u001b[0;34m)\u001b[0m\u001b[0;34m\u001b[0m\u001b[0;34m\u001b[0m\u001b[0m\n\u001b[1;32m      5\u001b[0m   \u001b[0mloss_all\u001b[0m \u001b[0;34m=\u001b[0m \u001b[0;36m0\u001b[0m\u001b[0;34m\u001b[0m\u001b[0;34m\u001b[0m\u001b[0m\n\u001b[0;32m----> 6\u001b[0;31m   \u001b[0;32mfor\u001b[0m \u001b[0mdataset\u001b[0m \u001b[0;32min\u001b[0m \u001b[0mtrain_loader\u001b[0m\u001b[0;34m:\u001b[0m\u001b[0;34m\u001b[0m\u001b[0;34m\u001b[0m\u001b[0m\n\u001b[0m\u001b[1;32m      7\u001b[0m     \u001b[0mdataset\u001b[0m \u001b[0;34m=\u001b[0m \u001b[0mdataset\u001b[0m\u001b[0;34m.\u001b[0m\u001b[0mto\u001b[0m\u001b[0;34m(\u001b[0m\u001b[0mdevice\u001b[0m\u001b[0;34m)\u001b[0m\u001b[0;34m\u001b[0m\u001b[0;34m\u001b[0m\u001b[0m\n\u001b[1;32m      8\u001b[0m     \u001b[0moptimizer\u001b[0m\u001b[0;34m.\u001b[0m\u001b[0mzero_grad\u001b[0m\u001b[0;34m(\u001b[0m\u001b[0;34m)\u001b[0m\u001b[0;34m\u001b[0m\u001b[0;34m\u001b[0m\u001b[0m\n",
            "\u001b[0;32m/usr/local/lib/python3.6/dist-packages/torch/utils/data/dataloader.py\u001b[0m in \u001b[0;36m__next__\u001b[0;34m(self)\u001b[0m\n\u001b[1;32m    344\u001b[0m     \u001b[0;32mdef\u001b[0m \u001b[0m__next__\u001b[0m\u001b[0;34m(\u001b[0m\u001b[0mself\u001b[0m\u001b[0;34m)\u001b[0m\u001b[0;34m:\u001b[0m\u001b[0;34m\u001b[0m\u001b[0;34m\u001b[0m\u001b[0m\n\u001b[1;32m    345\u001b[0m         \u001b[0mindex\u001b[0m \u001b[0;34m=\u001b[0m \u001b[0mself\u001b[0m\u001b[0;34m.\u001b[0m\u001b[0m_next_index\u001b[0m\u001b[0;34m(\u001b[0m\u001b[0;34m)\u001b[0m  \u001b[0;31m# may raise StopIteration\u001b[0m\u001b[0;34m\u001b[0m\u001b[0;34m\u001b[0m\u001b[0m\n\u001b[0;32m--> 346\u001b[0;31m         \u001b[0mdata\u001b[0m \u001b[0;34m=\u001b[0m \u001b[0mself\u001b[0m\u001b[0;34m.\u001b[0m\u001b[0mdataset_fetcher\u001b[0m\u001b[0;34m.\u001b[0m\u001b[0mfetch\u001b[0m\u001b[0;34m(\u001b[0m\u001b[0mindex\u001b[0m\u001b[0;34m)\u001b[0m  \u001b[0;31m# may raise StopIteration\u001b[0m\u001b[0;34m\u001b[0m\u001b[0;34m\u001b[0m\u001b[0m\n\u001b[0m\u001b[1;32m    347\u001b[0m         \u001b[0;32mif\u001b[0m \u001b[0mself\u001b[0m\u001b[0;34m.\u001b[0m\u001b[0mpin_memory\u001b[0m\u001b[0;34m:\u001b[0m\u001b[0;34m\u001b[0m\u001b[0;34m\u001b[0m\u001b[0m\n\u001b[1;32m    348\u001b[0m             \u001b[0mdata\u001b[0m \u001b[0;34m=\u001b[0m \u001b[0m_utils\u001b[0m\u001b[0;34m.\u001b[0m\u001b[0mpin_memory\u001b[0m\u001b[0;34m.\u001b[0m\u001b[0mpin_memory\u001b[0m\u001b[0;34m(\u001b[0m\u001b[0mdata\u001b[0m\u001b[0;34m)\u001b[0m\u001b[0;34m\u001b[0m\u001b[0;34m\u001b[0m\u001b[0m\n",
            "\u001b[0;32m/usr/local/lib/python3.6/dist-packages/torch/utils/data/_utils/fetch.py\u001b[0m in \u001b[0;36mfetch\u001b[0;34m(self, possibly_batched_index)\u001b[0m\n\u001b[1;32m     42\u001b[0m     \u001b[0;32mdef\u001b[0m \u001b[0mfetch\u001b[0m\u001b[0;34m(\u001b[0m\u001b[0mself\u001b[0m\u001b[0;34m,\u001b[0m \u001b[0mpossibly_batched_index\u001b[0m\u001b[0;34m)\u001b[0m\u001b[0;34m:\u001b[0m\u001b[0;34m\u001b[0m\u001b[0;34m\u001b[0m\u001b[0m\n\u001b[1;32m     43\u001b[0m         \u001b[0;32mif\u001b[0m \u001b[0mself\u001b[0m\u001b[0;34m.\u001b[0m\u001b[0mauto_collation\u001b[0m\u001b[0;34m:\u001b[0m\u001b[0;34m\u001b[0m\u001b[0;34m\u001b[0m\u001b[0m\n\u001b[0;32m---> 44\u001b[0;31m             \u001b[0mdata\u001b[0m \u001b[0;34m=\u001b[0m \u001b[0;34m[\u001b[0m\u001b[0mself\u001b[0m\u001b[0;34m.\u001b[0m\u001b[0mdataset\u001b[0m\u001b[0;34m[\u001b[0m\u001b[0midx\u001b[0m\u001b[0;34m]\u001b[0m \u001b[0;32mfor\u001b[0m \u001b[0midx\u001b[0m \u001b[0;32min\u001b[0m \u001b[0mpossibly_batched_index\u001b[0m\u001b[0;34m]\u001b[0m\u001b[0;34m\u001b[0m\u001b[0;34m\u001b[0m\u001b[0m\n\u001b[0m\u001b[1;32m     45\u001b[0m         \u001b[0;32melse\u001b[0m\u001b[0;34m:\u001b[0m\u001b[0;34m\u001b[0m\u001b[0;34m\u001b[0m\u001b[0m\n\u001b[1;32m     46\u001b[0m             \u001b[0mdata\u001b[0m \u001b[0;34m=\u001b[0m \u001b[0mself\u001b[0m\u001b[0;34m.\u001b[0m\u001b[0mdataset\u001b[0m\u001b[0;34m[\u001b[0m\u001b[0mpossibly_batched_index\u001b[0m\u001b[0;34m]\u001b[0m\u001b[0;34m\u001b[0m\u001b[0;34m\u001b[0m\u001b[0m\n",
            "\u001b[0;32m/usr/local/lib/python3.6/dist-packages/torch/utils/data/_utils/fetch.py\u001b[0m in \u001b[0;36m<listcomp>\u001b[0;34m(.0)\u001b[0m\n\u001b[1;32m     42\u001b[0m     \u001b[0;32mdef\u001b[0m \u001b[0mfetch\u001b[0m\u001b[0;34m(\u001b[0m\u001b[0mself\u001b[0m\u001b[0;34m,\u001b[0m \u001b[0mpossibly_batched_index\u001b[0m\u001b[0;34m)\u001b[0m\u001b[0;34m:\u001b[0m\u001b[0;34m\u001b[0m\u001b[0;34m\u001b[0m\u001b[0m\n\u001b[1;32m     43\u001b[0m         \u001b[0;32mif\u001b[0m \u001b[0mself\u001b[0m\u001b[0;34m.\u001b[0m\u001b[0mauto_collation\u001b[0m\u001b[0;34m:\u001b[0m\u001b[0;34m\u001b[0m\u001b[0;34m\u001b[0m\u001b[0m\n\u001b[0;32m---> 44\u001b[0;31m             \u001b[0mdata\u001b[0m \u001b[0;34m=\u001b[0m \u001b[0;34m[\u001b[0m\u001b[0mself\u001b[0m\u001b[0;34m.\u001b[0m\u001b[0mdataset\u001b[0m\u001b[0;34m[\u001b[0m\u001b[0midx\u001b[0m\u001b[0;34m]\u001b[0m \u001b[0;32mfor\u001b[0m \u001b[0midx\u001b[0m \u001b[0;32min\u001b[0m \u001b[0mpossibly_batched_index\u001b[0m\u001b[0;34m]\u001b[0m\u001b[0;34m\u001b[0m\u001b[0;34m\u001b[0m\u001b[0m\n\u001b[0m\u001b[1;32m     45\u001b[0m         \u001b[0;32melse\u001b[0m\u001b[0;34m:\u001b[0m\u001b[0;34m\u001b[0m\u001b[0;34m\u001b[0m\u001b[0m\n\u001b[1;32m     46\u001b[0m             \u001b[0mdata\u001b[0m \u001b[0;34m=\u001b[0m \u001b[0mself\u001b[0m\u001b[0;34m.\u001b[0m\u001b[0mdataset\u001b[0m\u001b[0;34m[\u001b[0m\u001b[0mpossibly_batched_index\u001b[0m\u001b[0;34m]\u001b[0m\u001b[0;34m\u001b[0m\u001b[0;34m\u001b[0m\u001b[0m\n",
            "\u001b[0;32m/usr/local/lib/python3.6/dist-packages/torch_geometric/data/data.py\u001b[0m in \u001b[0;36m__getitem__\u001b[0;34m(self, key)\u001b[0m\n\u001b[1;32m     90\u001b[0m     \u001b[0;32mdef\u001b[0m \u001b[0m__getitem__\u001b[0m\u001b[0;34m(\u001b[0m\u001b[0mself\u001b[0m\u001b[0;34m,\u001b[0m \u001b[0mkey\u001b[0m\u001b[0;34m)\u001b[0m\u001b[0;34m:\u001b[0m\u001b[0;34m\u001b[0m\u001b[0;34m\u001b[0m\u001b[0m\n\u001b[1;32m     91\u001b[0m         \u001b[0;34mr\"\"\"Gets the data of the attribute :obj:`key`.\"\"\"\u001b[0m\u001b[0;34m\u001b[0m\u001b[0;34m\u001b[0m\u001b[0m\n\u001b[0;32m---> 92\u001b[0;31m         \u001b[0;32mreturn\u001b[0m \u001b[0mgetattr\u001b[0m\u001b[0;34m(\u001b[0m\u001b[0mself\u001b[0m\u001b[0;34m,\u001b[0m \u001b[0mkey\u001b[0m\u001b[0;34m,\u001b[0m \u001b[0;32mNone\u001b[0m\u001b[0;34m)\u001b[0m\u001b[0;34m\u001b[0m\u001b[0;34m\u001b[0m\u001b[0m\n\u001b[0m\u001b[1;32m     93\u001b[0m \u001b[0;34m\u001b[0m\u001b[0m\n\u001b[1;32m     94\u001b[0m     \u001b[0;32mdef\u001b[0m \u001b[0m__setitem__\u001b[0m\u001b[0;34m(\u001b[0m\u001b[0mself\u001b[0m\u001b[0;34m,\u001b[0m \u001b[0mkey\u001b[0m\u001b[0;34m,\u001b[0m \u001b[0mvalue\u001b[0m\u001b[0;34m)\u001b[0m\u001b[0;34m:\u001b[0m\u001b[0;34m\u001b[0m\u001b[0;34m\u001b[0m\u001b[0m\n",
            "\u001b[0;31mTypeError\u001b[0m: getattr(): attribute name must be string"
          ]
        }
      ]
    }
  ]
}