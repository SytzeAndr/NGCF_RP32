{
  "nbformat": 4,
  "nbformat_minor": 0,
  "metadata": {
    "colab": {
      "name": "NGCF.ipynb",
      "provenance": [],
      "machine_shape": "hm",
      "include_colab_link": true
    },
    "kernelspec": {
      "name": "python3",
      "display_name": "Python 3"
    },
    "pycharm": {
      "stem_cell": {
        "cell_type": "raw",
        "source": [],
        "metadata": {
          "collapsed": false
        }
      }
    },
    "accelerator": "GPU"
  },
  "cells": [
    {
      "cell_type": "markdown",
      "metadata": {
        "id": "view-in-github",
        "colab_type": "text"
      },
      "source": [
        "<a href=\"https://colab.research.google.com/github/SytzeAndr/NGCF_RP32/blob/master/NGCF.ipynb\" target=\"_parent\"><img src=\"https://colab.research.google.com/assets/colab-badge.svg\" alt=\"Open In Colab\"/></a>"
      ]
    },
    {
      "cell_type": "markdown",
      "metadata": {
        "id": "frx1uCxdNYWU",
        "colab_type": "text"
      },
      "source": [
        "##The steps to take\n",
        "As a rough outline, we can sketch the steps to be taken to train a Neural Graph Collaborative Filtering system as follows.\n",
        "\n",
        "1. Parse the data in $(u, i, j)$ tuples, where we have user $u$, positive item $i$ and negative item $j$.\n",
        "1. Implement the NGCF model\n",
        "  1. Create a user-item interaction graph for each batch.\n",
        "  1. Create a NGCF Layer that can be used to perform a MessagePassing step.\n",
        "  1. Use this NGCF Layer in a Neural Net to obtain predictions for the batch.\n",
        "1. Train all the parameters\n",
        "  1. Construct the matrices W1_l, W2_l and E_l for each step l, initialize them with the Xavier Initializer.\n",
        "  1. Sample a batch from the training data. Apply L steps of message passing, and save all the matrices W1_{1..L}, W2_{1..L}, E_{1..L}, repeat until all training data are sampled once.\n",
        "  1. Construct the final embeddings for each user and item, by concatenating the embeddings for a user or item from each step, so **e_u** = **e_u^1** || ... || **e_u^L**\n",
        "  1. Using the final embeddings, compute the prediction for each (user, item) pair, and compute the BPR loss.\n",
        "  1. Use the BPR loss to update the matrices W1 and W2, repeat until $T$ epochs are done.\n",
        "1. Generate the test output, compute recall and ndgc, compare them to the Table 3\n",
        "  1. Use the trained matrices W1 and W2 to find the prediction values for each (user, item) pair in the test data.\n",
        "  1. Compute the recall and normalized discounted cumulative gain (ndgc)\n",
        "\n",
        "Since we have to compare results for step l, and the final embeddings are calculated by concatenation over the steps, we can simply perform all L steps (4 in this case), and then do the analysis over subsets of the W1 and W2 matrices.\n",
        "\n",
        "Hyperparameters to consider:\n",
        " - Negative slope of NGCFLayer#LeakyReLU\n",
        " - Learning rate for the Adam optimizer\n",
        " - $\\lambda$ in loss computation\n"
      ]
    },
    {
      "cell_type": "markdown",
      "metadata": {
        "id": "Ni4rEp2I06Rd",
        "colab_type": "text"
      },
      "source": [
        "##File loading\n",
        "\n",
        "Here we use the Google Drive mountpoint to load files. For this to work, note the following:\n",
        "\n",
        "\n",
        "\n",
        "*   The first time you execute this, it will provide a link, which you need to follow and give permission for Colab to access your Google Drive.\n",
        "*   Make sure that the data is located in the folder `RP_data` which should be located in the root of your Drive."
      ]
    },
    {
      "cell_type": "code",
      "metadata": {
        "id": "-GuQIsFhz_O6",
        "colab_type": "code",
        "outputId": "e7b060bf-5f2c-47d9-e7bf-8c15404a8283",
        "colab": {
          "base_uri": "https://localhost:8080/",
          "height": 124
        }
      },
      "source": [
        "from google.colab import drive\n",
        "\n",
        "drive.mount('/content/drive')\n",
        "data_path = './drive/My Drive/RP_data/'"
      ],
      "execution_count": 1,
      "outputs": [
        {
          "output_type": "stream",
          "text": [
            "Go to this URL in a browser: https://accounts.google.com/o/oauth2/auth?client_id=947318989803-6bn6qk8qdgf4n4g3pfee6491hc0brc4i.apps.googleusercontent.com&redirect_uri=urn%3aietf%3awg%3aoauth%3a2.0%3aoob&response_type=code&scope=email%20https%3a%2f%2fwww.googleapis.com%2fauth%2fdocs.test%20https%3a%2f%2fwww.googleapis.com%2fauth%2fdrive%20https%3a%2f%2fwww.googleapis.com%2fauth%2fdrive.photos.readonly%20https%3a%2f%2fwww.googleapis.com%2fauth%2fpeopleapi.readonly\n",
            "\n",
            "Enter your authorization code:\n",
            "··········\n",
            "Mounted at /content/drive\n"
          ],
          "name": "stdout"
        }
      ]
    },
    {
      "cell_type": "markdown",
      "metadata": {
        "id": "3z0bqsE0VsKc",
        "colab_type": "text"
      },
      "source": [
        "## Loading pytorch with torch_geometric (PyG)\n",
        "Some of its steps are described in this blog post:\n",
        "https://towardsdatascience.com/hands-on-graph-neural-networks-with-pytorch-pytorch-geometric-359487e221a8\n",
        "\n",
        "There is also a google colab which trains a GCN to identify 'spammers'\n",
        "https://colab.research.google.com/github/zaidalyafeai/Notebooks/blob/master/Deep_GCN_Spam.ipynb#scrollTo=_4_eVOI2M4Uo"
      ]
    },
    {
      "cell_type": "markdown",
      "metadata": {
        "id": "4sUDqw3zY7AD",
        "colab_type": "text"
      },
      "source": [
        "**Importing torch_geometric 1.3.2**\n",
        "\n",
        "`torch_geometric` is a geometric deep learning extension library for PyTorch. We don't use the latest version (loaded by default by google colab) due to inconsistencies with PyTorch. This also means we have to downgrade a few other packages aswell."
      ]
    },
    {
      "cell_type": "code",
      "metadata": {
        "id": "0mo9WkaqnqEI",
        "colab_type": "code",
        "outputId": "72255bda-142f-4cdc-82e0-bd2e8825b168",
        "colab": {
          "base_uri": "https://localhost:8080/",
          "height": 677
        }
      },
      "source": [
        "# !pip install torch===1.2.0 torchvision===1.4.0 -f https://download.pytorch.org/whl/torch_stable.html\n",
        "# these were the corresponding versions for torch-geometric 1.3.2, released 4 oct 2019, which runs on torch 1.2.0.\n",
        "# grab some coffee, this might take a while\n",
        "!pip install torch-scatter==1.3.1\n",
        "!pip install torch-sparse==0.4.0\n",
        "!pip install torch-cluster==1.4.4\n",
        "!pip install torch-spline-conv==1.1.0\n",
        "!pip install torch-geometric==1.3.2"
      ],
      "execution_count": 3,
      "outputs": [
        {
          "output_type": "stream",
          "text": [
            "Requirement already satisfied: torch-scatter==1.3.1 in /usr/local/lib/python3.6/dist-packages (1.3.1)\n",
            "Requirement already satisfied: torch-sparse==0.4.0 in /usr/local/lib/python3.6/dist-packages (0.4.0)\n",
            "Requirement already satisfied: scipy in /usr/local/lib/python3.6/dist-packages (from torch-sparse==0.4.0) (1.4.1)\n",
            "Requirement already satisfied: numpy>=1.13.3 in /usr/local/lib/python3.6/dist-packages (from scipy->torch-sparse==0.4.0) (1.18.2)\n",
            "Collecting torch-cluster==1.4.4\n",
            "  Using cached https://files.pythonhosted.org/packages/bd/5f/01c5799cd1f81f9956f03a0e1d9a861e020a598dd411d9bd3c3c1dd5b8a4/torch_cluster-1.4.4.tar.gz\n",
            "Requirement already satisfied: scipy in /usr/local/lib/python3.6/dist-packages (from torch-cluster==1.4.4) (1.4.1)\n",
            "Requirement already satisfied: numpy>=1.13.3 in /usr/local/lib/python3.6/dist-packages (from scipy->torch-cluster==1.4.4) (1.18.2)\n",
            "Building wheels for collected packages: torch-cluster\n",
            "  Building wheel for torch-cluster (setup.py) ... \u001b[?25l\u001b[?25hdone\n",
            "  Created wheel for torch-cluster: filename=torch_cluster-1.4.4-cp36-cp36m-linux_x86_64.whl size=20361529 sha256=aa27694ef80b89130e1d4c5c2efcad00346a610a5d2b2c0f1a1c51b409b191b0\n",
            "  Stored in directory: /root/.cache/pip/wheels/20/7b/ab/b3e266920055d1e51988f93a99ef8df62e399b234c8d50527f\n",
            "Successfully built torch-cluster\n",
            "Installing collected packages: torch-cluster\n",
            "Successfully installed torch-cluster-1.4.4\n",
            "Requirement already satisfied: torch-spline-conv==1.1.0 in /usr/local/lib/python3.6/dist-packages (1.1.0)\n",
            "Requirement already satisfied: torch-geometric==1.3.2 in /usr/local/lib/python3.6/dist-packages (1.3.2)\n",
            "Requirement already satisfied: h5py in /usr/local/lib/python3.6/dist-packages (from torch-geometric==1.3.2) (2.10.0)\n",
            "Requirement already satisfied: pandas in /usr/local/lib/python3.6/dist-packages (from torch-geometric==1.3.2) (1.0.3)\n",
            "Requirement already satisfied: rdflib in /usr/local/lib/python3.6/dist-packages (from torch-geometric==1.3.2) (4.2.2)\n",
            "Requirement already satisfied: googledrivedownloader in /usr/local/lib/python3.6/dist-packages (from torch-geometric==1.3.2) (0.4)\n",
            "Requirement already satisfied: scikit-learn in /usr/local/lib/python3.6/dist-packages (from torch-geometric==1.3.2) (0.22.2.post1)\n",
            "Requirement already satisfied: requests in /usr/local/lib/python3.6/dist-packages (from torch-geometric==1.3.2) (2.21.0)\n",
            "Requirement already satisfied: plyfile in /usr/local/lib/python3.6/dist-packages (from torch-geometric==1.3.2) (0.7.2)\n",
            "Requirement already satisfied: networkx in /usr/local/lib/python3.6/dist-packages (from torch-geometric==1.3.2) (2.4)\n",
            "Requirement already satisfied: scipy in /usr/local/lib/python3.6/dist-packages (from torch-geometric==1.3.2) (1.4.1)\n",
            "Requirement already satisfied: numpy in /usr/local/lib/python3.6/dist-packages (from torch-geometric==1.3.2) (1.18.2)\n",
            "Requirement already satisfied: six in /usr/local/lib/python3.6/dist-packages (from h5py->torch-geometric==1.3.2) (1.12.0)\n",
            "Requirement already satisfied: pytz>=2017.2 in /usr/local/lib/python3.6/dist-packages (from pandas->torch-geometric==1.3.2) (2018.9)\n",
            "Requirement already satisfied: python-dateutil>=2.6.1 in /usr/local/lib/python3.6/dist-packages (from pandas->torch-geometric==1.3.2) (2.8.1)\n",
            "Requirement already satisfied: pyparsing in /usr/local/lib/python3.6/dist-packages (from rdflib->torch-geometric==1.3.2) (2.4.7)\n",
            "Requirement already satisfied: isodate in /usr/local/lib/python3.6/dist-packages (from rdflib->torch-geometric==1.3.2) (0.6.0)\n",
            "Requirement already satisfied: joblib>=0.11 in /usr/local/lib/python3.6/dist-packages (from scikit-learn->torch-geometric==1.3.2) (0.14.1)\n",
            "Requirement already satisfied: certifi>=2017.4.17 in /usr/local/lib/python3.6/dist-packages (from requests->torch-geometric==1.3.2) (2020.4.5.1)\n",
            "Requirement already satisfied: urllib3<1.25,>=1.21.1 in /usr/local/lib/python3.6/dist-packages (from requests->torch-geometric==1.3.2) (1.24.3)\n",
            "Requirement already satisfied: chardet<3.1.0,>=3.0.2 in /usr/local/lib/python3.6/dist-packages (from requests->torch-geometric==1.3.2) (3.0.4)\n",
            "Requirement already satisfied: idna<2.9,>=2.5 in /usr/local/lib/python3.6/dist-packages (from requests->torch-geometric==1.3.2) (2.8)\n",
            "Requirement already satisfied: decorator>=4.3.0 in /usr/local/lib/python3.6/dist-packages (from networkx->torch-geometric==1.3.2) (4.4.2)\n"
          ],
          "name": "stdout"
        }
      ]
    },
    {
      "cell_type": "code",
      "metadata": {
        "id": "ErcV2T7PWLDd",
        "colab_type": "code",
        "outputId": "e7f579e0-35dc-4979-9b4e-a4cea46c6937",
        "colab": {
          "base_uri": "https://localhost:8080/",
          "height": 52
        }
      },
      "source": [
        "import torch\n",
        "import torch_cluster\n",
        "import torch_geometric\n",
        "\n",
        "# we use torch version 1.2.0 instead of the latest due to dependency errors\n",
        "print(torch.__version__)\n",
        "# verify that torch geometric is imported, should be 1.3.2\n",
        "print(torch_geometric.__version__)"
      ],
      "execution_count": 4,
      "outputs": [
        {
          "output_type": "stream",
          "text": [
            "1.4.0\n",
            "1.3.2\n"
          ],
          "name": "stdout"
        }
      ]
    },
    {
      "cell_type": "markdown",
      "metadata": {
        "id": "aFlr-rxYnsid",
        "colab_type": "text"
      },
      "source": [
        "##Legacy: **DataReader class**\n",
        "\n",
        "The DataReader class is a utility class that will help loading the data, compute useful properties of the data and create sample batches."
      ]
    },
    {
      "cell_type": "code",
      "metadata": {
        "colab_type": "code",
        "id": "20UOLdQ9rdyX",
        "colab": {}
      },
      "source": [
        "import random as rd\n",
        "\n",
        "class DataReader(object):\n",
        "  def __init__(self, path='./drive/My Drive/RP_data/raw', batch_size=1024):\n",
        "    self.path = path\n",
        "    self.batch_size = batch_size\n",
        "\n",
        "    train_file = path + '/train.txt'\n",
        "    test_file = path + '/test.txt'\n",
        "\n",
        "    self.n_train = 0\n",
        "    self.n_test = 0\n",
        "    self.exist_users = []\n",
        "    self.train_items = {}\n",
        "    self.test_items = {}\n",
        "\n",
        "    with open(train_file) as f:\n",
        "      for l in f.readlines():\n",
        "        if len(l) > 0:\n",
        "          l = l.strip('\\n')\n",
        "          items = [int(i) for i in l.split(' ')]\n",
        "          uid, train_items = items[0], items[1:]\n",
        "          self.exist_users.append(uid)\n",
        "          self.train_items[uid] = train_items\n",
        "          self.n_train += len(train_items)\n",
        "\n",
        "    with open(test_file) as f:\n",
        "      for l in f.readlines():\n",
        "        if len(l) > 0:\n",
        "          l = l.strip('\\n')\n",
        "          try:\n",
        "            items = [int(i) for i in l.split(' ')]\n",
        "            uid, test_items = items[0], items[1:]\n",
        "            self.exist_users.append(uid)\n",
        "            self.test_items[uid] = test_items\n",
        "            self.n_test += len(test_items)\n",
        "          except Exception:\n",
        "            continue\n",
        "\n",
        "    train_max_item = max([max(items) for items in list(self.train_items.values())])\n",
        "    test_max_item = max([max(items) for items in list(self.test_items.values())])\n",
        "    self.n_items = max(train_max_item, test_max_item)\n",
        "    self.n_users = max(self.exist_users)\n",
        "  \n",
        "\n",
        "  def sample(self):\n",
        "    if self.batch_size <= self.n_users:\n",
        "      users = rd.sample(self.exist_users, self.batch_size)\n",
        "    else:\n",
        "      users = [rd.choice(self.exist_users) for _ in range(self.batch_size)]\n",
        "\n",
        "\n",
        "    def sample_pos_items_for_u(u, num):\n",
        "      pos_items = self.train_items[u]\n",
        "      n_pos_items = len(pos_items)\n",
        "      pos_batch = []\n",
        "      while True:\n",
        "        if len(pos_batch) == num: break\n",
        "        pos_id = np.random.randint(low=0, high=n_pos_items, size=1)[0]\n",
        "        pos_i_id = pos_items[pos_id]\n",
        "\n",
        "        if pos_i_id not in pos_batch:\n",
        "          pos_batch.append(pos_i_id)\n",
        "      return pos_batch\n",
        "\n",
        "\n",
        "    def sample_neg_items_for_u(u, num):\n",
        "      neg_batch = []\n",
        "      while True:\n",
        "        if len(neg_batch) == num: break\n",
        "        neg_id = np.random.randint(low=0, high=self.n_items, size=1)[0]\n",
        "        if neg_id not in self.train_items[u] and neg_id not in neg_batch:\n",
        "          neg_batch.append(neg_id)\n",
        "      return neg_batch\n",
        "    \n",
        "\n",
        "    pos_items, neg_items = [], []\n",
        "    for u in users:\n",
        "      pos_items += sample_pos_items_for_u(u, 1)\n",
        "      neg_items += sample_neg_items_for_u(u, 1)\n",
        "\n",
        "    return users, pos_items, neg_items\n"
      ],
      "execution_count": 0,
      "outputs": []
    },
    {
      "cell_type": "code",
      "metadata": {
        "id": "P2iFaHvdvc8J",
        "colab_type": "code",
        "colab": {}
      },
      "source": [
        "# small test to verify whether we can load data\n",
        "dataReader = DataReader()\n",
        "dataReader.sample()"
      ],
      "execution_count": 0,
      "outputs": []
    },
    {
      "cell_type": "code",
      "metadata": {
        "id": "pBcxk1KyA9zn",
        "colab_type": "code",
        "colab": {}
      },
      "source": [
        "# torch_geometric.data.Data provides a number of utility functions\n",
        "# these prints are a check to verify if our graph seems valid\n",
        "# print(data.is_undirected())\n",
        "# print(data.is_directed())\n",
        "# print(data.num_edges)\n",
        "# print(data.num_nodes)\n",
        "# print(data.contains_isolated_nodes())\n",
        "# print(data.contains_self_loops())"
      ],
      "execution_count": 0,
      "outputs": []
    },
    {
      "cell_type": "markdown",
      "metadata": {
        "id": "tn_xzVLBUaMS",
        "colab_type": "text"
      },
      "source": [
        "# Data loading\n",
        "The model will be trained on batches of $(u,i,j)$, where $u$ is a user, $i$ is an item with which $u$ interacted and $j$ is an item with which $u$ did not interact. Therefore, when loading the data, we find all the possible $(u,i,j)$ tuples and store them. The `DataConstruction` class makes data handling and parsing easier, since the processed data is stored in a separate file for easy access."
      ]
    },
    {
      "cell_type": "code",
      "metadata": {
        "pycharm": {
          "name": "#%%\n"
        },
        "id": "31Ka5fcKV_dz",
        "colab_type": "code",
        "colab": {}
      },
      "source": [
        "from torch_geometric.data import InMemoryDataset, Data\n",
        "from torch.utils.data import DataLoader\n",
        "import numpy as np\n",
        "import os\n",
        "\n",
        "class DataConstruction(InMemoryDataset):\n",
        "  def __init__(self, root, transform=None, pre_transform=None):\n",
        "    super(DataConstruction, self).__init__(root, transform, pre_transform)\n",
        "    self.data = torch.load(self.processed_paths[0])\n",
        "    self.n_users = torch.max(self.data[:, 0]).item()\n",
        "    self.n_items = torch.max(self.data[:, 1:]).item()\n",
        "\n",
        "  @property\n",
        "  def raw_file_names(self):\n",
        "    return [os.path.join(self.root, 'data.txt')]\n",
        "  \n",
        "  @property\n",
        "  def processed_file_names(self):\n",
        "    return ['processed.dataset']\n",
        "  \n",
        "  def download(self):\n",
        "    pass\n",
        "  \n",
        "  def process(self):\n",
        "    data = []\n",
        "\n",
        "    for file in self.raw_file_names:\n",
        "      users = []\n",
        "      items = []\n",
        "      pos_items = {}\n",
        "\n",
        "      with open(file) as f:\n",
        "        for l in f.readlines():\n",
        "          if len(l) > 0:\n",
        "            l = l.strip('\\n')\n",
        "            items = [int(i) for i in l.split(' ')]\n",
        "            uid, items = items[0], items[1:]\n",
        "            users.append(uid)\n",
        "            items.extend(items)\n",
        "            pos_items[uid] = np.asarray(items)\n",
        "      users = np.asarray(users)\n",
        "      items = np.unique(items)\n",
        "\n",
        "      for uid in users:\n",
        "        pos = pos_items[uid]\n",
        "        neg = np.setdiff1d(items, pos)\n",
        "        for p in pos:\n",
        "          for n in neg:\n",
        "            data.append([uid, p, n])\n",
        "\n",
        "    torch.save(torch.tensor(data), self.processed_paths[0])"
      ],
      "execution_count": 0,
      "outputs": []
    },
    {
      "cell_type": "code",
      "metadata": {
        "id": "08K8QWBqHamS",
        "colab_type": "code",
        "colab": {}
      },
      "source": [
        "train_path = data_path + 'train'\n",
        "train_data = DataConstruction(root=train_path)"
      ],
      "execution_count": 0,
      "outputs": []
    },
    {
      "cell_type": "markdown",
      "metadata": {
        "id": "Ed1gVEhhqbZt",
        "colab_type": "text"
      },
      "source": [
        "# Model definition"
      ]
    },
    {
      "cell_type": "markdown",
      "metadata": {
        "id": "KDlCsjl7Spjl",
        "colab_type": "text"
      },
      "source": [
        "\n",
        "For each user-item pair (u,i), we define the message from i to u as\n",
        "\n",
        "$m_{u \\leftarrow i} = \\dfrac{1}{\\sqrt{|N_u||N_i|}} (W_1 e_i + W_2(e_i \\odot e_u))$\n",
        "\n",
        "Where $N_u, N_i$ are the first hop neighbors of $u$ and $i$, $W_1, W_2$ are trainable weight matrices to distill useful information for propagation, and $e_i$ and $e_u$ are embeddings of the users and items. Note that in the special case where $u == i$, the second term is dropped.\n",
        "\n",
        "The embedding for a user (or item) is updated through message aggregation as \n",
        "\n",
        "$e_u^{(l)} = LeakyReLU(m_{u \\leftarrow u} + \\sum_{i \\in N_u} m_{u \\leftarrow i})$\n",
        "\n",
        "If the graph is constructed properly, this is simply a summation over all edges (when selfloops are included), followed by a LeakyReLU activiation."
      ]
    },
    {
      "cell_type": "code",
      "metadata": {
        "id": "FHwG78ZV3-4o",
        "colab_type": "code",
        "colab": {}
      },
      "source": [
        "from torch.nn import init, Embedding, LeakyReLU, Linear\n",
        "from torch_geometric.nn import MessagePassing\n",
        "from torch_geometric.utils import remove_self_loops, add_self_loops\n",
        "\n",
        "# define our NGCF layer\n",
        "class NGCFLayer(MessagePassing):\n",
        "  def __init__(self, embed_size):\n",
        "    super(NGCFLayer, self).__init__(aggr='add') # Summation as aggregation\n",
        "    # The W1 matrix\n",
        "    self.lin1 = Linear(embed_size, embed_size, bias=False)\n",
        "    init.xavier_normal_(self.lin1.weight)\n",
        "    # The W2 matrix\n",
        "    self.lin2 = Linear(embed_size, embed_size, bias=False)\n",
        "    init.xavier_normal_(self.lin2.weight)\n",
        "    self.act = LeakyReLU()\n",
        "\n",
        "  def forward(self, x, edge_index):\n",
        "    # Add self loops\n",
        "    edge_index, _ = remove_self_loops(edge_index)\n",
        "    edge_index, _ = add_self_loops(edge_index, num_nodes=x.size(0))\n",
        "\n",
        "    # Compute normalization\n",
        "    row, col = edge_index\n",
        "    deg = degree(row, x.size(0), dtype=x.dtype)\n",
        "    deg_inv_dqrt = deg.pow(-0.5)\n",
        "    norm = deg_inv_sqrt[row] * deg_inv_sqrt[col]\n",
        "\n",
        "    return self.propagate(edge_index, size=(x.size(0), x.size(0)), x=x, norm=norm)\n",
        "  \n",
        "  def message(self, x_i, x_j, norm):\n",
        "    # Construct message\n",
        "    message = self.lin1(x_j)\n",
        "    # Only add the second term if it is not a self loop\n",
        "    if x_i.data_ptr() != x_j.data_ptr():\n",
        "      message += self.lin2(torch.mul(x_i, x_j))\n",
        "    return message\n",
        "\n",
        "  def update(self, aggr_out):\n",
        "    # Return the LeakyReLU result\n",
        "    return self.act(aggr_out)"
      ],
      "execution_count": 0,
      "outputs": []
    },
    {
      "cell_type": "code",
      "metadata": {
        "id": "xMYQru5BUmku",
        "colab_type": "code",
        "colab": {}
      },
      "source": [
        "## Define our NN using the NGCF layer definition\n",
        "\n",
        "embed_size = 64\n",
        "batch_size = 1024\n",
        "num_epochs = 3\n",
        "\n",
        "class Net(torch.nn.Module):\n",
        "  def __init__(self, n_layers, num_embeddings):\n",
        "    super(Net, self).__init__()\n",
        "\n",
        "    self.embedding = Embedding(num_embeddings=num_embeddings, embedding_dim=embed_size)\n",
        "    init.xavier_uniform_(self.embedding.weight)\n",
        "\n",
        "    self.ngcf_layers = []\n",
        "    for i in range(n_layers):\n",
        "      layer = NGCFLayer(embed_size=embed_size)\n",
        "      self.ngcf_layers.append(layer)\n",
        "    \n",
        "  def forward(self, data):\n",
        "    print(data)\n",
        "    x, edge_index, batch = data.x, data.edge_index, data.batch\n",
        "    for layer in self.ngcf_layers:\n",
        "      x = layer(x, edge_index)\n",
        "    return x"
      ],
      "execution_count": 0,
      "outputs": []
    },
    {
      "cell_type": "markdown",
      "metadata": {
        "id": "54GuypLWrCu0",
        "colab_type": "text"
      },
      "source": [
        "# Optimization"
      ]
    },
    {
      "cell_type": "code",
      "metadata": {
        "id": "Bxk0C8UVWd4w",
        "colab_type": "code",
        "colab": {}
      },
      "source": [
        "# Utility to parse a batch of triplets into a Graph structure\n",
        "def parse_batch(batch):\n",
        "  edges = []\n",
        "  # define an edge for each (u, i)\n",
        "  for tuple in batch:\n",
        "    # increase the item id by the number of users to distinct the nodes from users\n",
        "    edges.append([tuple[0], tuple[1] + train_data.n_users])\n",
        "    edges.append([tuple[1] + train_data.n_users, tuple[0]])\n",
        "  \n",
        "  # following example from https://pytorch-geometric.readthedocs.io/en/latest/notes/introduction.html\n",
        "  edge_index = torch.tensor(edges, dtype=torch.long).t().contiguous()\n",
        "  \n",
        "  # Needs testing\n",
        "  users = batch[:, 0]\n",
        "  items = batch[:, 1:] + train_data.n_users\n",
        "  x = users.extend(items)\n",
        "  \n",
        "  return Data(x=x, edge_index=edge_index)\n",
        "\n",
        "\n",
        "def optimize():\n",
        "  model.train()\n",
        "  loss_all = 0\n",
        "  for dataset in train_loader:\n",
        "    dataset = dataset.to(device)\n",
        "    optimizer.zero_grad()\n",
        "    output = model(dataset)\n",
        "    label = dataset.y.to(device)\n",
        "    loss = crit(output, label)\n",
        "    loss.backward()\n",
        "    loss_all += dataset.num_graphs * loss_item()\n",
        "    optimizer.step()\n",
        "  return loss_all / len(train_loader)\n",
        "\n",
        "# to enable running on the GPU in google colab: \n",
        "# Runtime -> select Change runtime type -> select GPU and hit Save\n",
        "# device = torch.device('cuda')\n",
        "# model = Net(n_layers=1).to(device)\n",
        "# optimizer = torch.optim.Adam(model.parameters(), lr=0.005)\n",
        "# crit = torch.nn.BCELoss()\n",
        "\n",
        "model = Net(n_layers=1, num_embeddings=train_data.n_users + train_data.n_items)\n",
        "train_loader = DataLoader(train_data.data, batch_size=batch_size, shuffle=True)\n",
        "\n",
        "batch = parse_batch(next(iter(train_loader)))\n",
        "# output = model(batch)\n",
        "# print(output)"
      ],
      "execution_count": 0,
      "outputs": []
    },
    {
      "cell_type": "markdown",
      "metadata": {
        "id": "rsWQW24mC23O",
        "colab_type": "text"
      },
      "source": [
        "# Step 2"
      ]
    },
    {
      "cell_type": "markdown",
      "metadata": {
        "id": "S4xtsOWbHSkO",
        "colab_type": "text"
      },
      "source": [
        "First we initialize the initial weights and embeddings. This is performed by [Xavier initialization](http://proceedings.mlr.press/v9/glorot10a/glorot10a.pdf)."
      ]
    },
    {
      "cell_type": "code",
      "metadata": {
        "pycharm": {
          "name": "#%%\n"
        },
        "id": "3YA6bVLWv-b2",
        "colab_type": "code",
        "colab": {}
      },
      "source": [
        "import math\n",
        "\n",
        "def xavier(m, h):\n",
        "  return torch.Tensor(m, h).uniform_(-1, 1)*math.sqrt(6./(m+h))\n",
        "\n",
        "class NGCF(object):\n",
        "  def __init__(self, n_users, n_items, emb_dim=64, n_layers=4):\n",
        "    self.n_users = n_users\n",
        "    self.n_items = n_items\n",
        "    self.emb_dim = emb_dim\n",
        "    self.weight_size = list(np.repeat(emb_dim, n_layers))\n",
        "    self.n_layers = n_layers\n",
        "\n",
        "  def _init_weights(self):\n",
        "    all_weights = dict()\n",
        "    all_weights['user_embedding'] = xavier(self.n_users, self.emb_dim) \n",
        "    all_weights['item_embedding'] = xavier(self.n_items, self.emb_dim)\n",
        "    self.weight_size_list = [self.emb_dim] + self.weight_size\n",
        "    for k in range(self.n_layers):\n",
        "      all_weights['W_gc_%d' % k] = xavier(self.weight_size_list[k], self.weight_size_list[k+1])\n",
        "      all_weights['b_gc_%d' % k] = xavier(1, self.weight_size_list[k+1])\n",
        "      all_weights['W_bi_%d' % k] = xavier(self.weight_size_list[k], self.weight_size_list[k + 1])\n",
        "      all_weights['b_bi_%d' % k] = xavier(1, self.weight_size_list[k + 1])\n",
        "      all_weights['W_mlp_%d' % k] = xavier(self.weight_size_list[k], self.weight_size_list[k+1])\n",
        "      all_weights['b_mlp_%d' % k] = xavier(1, self.weight_size_list[k+1])\n",
        "    return all_weights\n",
        "\n"
      ],
      "execution_count": 0,
      "outputs": []
    },
    {
      "cell_type": "code",
      "metadata": {
        "id": "DxRyv2Lh3pg4",
        "colab_type": "code",
        "outputId": "3f4bb562-4779-431b-fe76-518a2a3e16d6",
        "colab": {
          "base_uri": "https://localhost:8080/",
          "height": 73
        }
      },
      "source": [
        "# set initial weight\n",
        "# emd_dim and n_layers can be tweaked to our liking\n",
        "ncfg_obj = NGCF(n_users=dataReader.n_users, n_items=dataReader.n_items, emb_dim=64, n_layers=4)\n",
        "\n",
        "# store all our initial weights in some dict object\n",
        "ncfg_weights = ncfg_obj._init_weights()\n",
        "\n",
        "# optional prints: check the amount of user embeddings as a verification\n",
        "print(ncfg_weights.keys())\n",
        "print(len(ncfg_weights['user_embedding']))"
      ],
      "execution_count": 0,
      "outputs": [
        {
          "output_type": "stream",
          "text": [
            "dict_keys(['user_embedding', 'item_embedding', 'W_gc_0', 'b_gc_0', 'W_bi_0', 'b_bi_0', 'W_mlp_0', 'b_mlp_0', 'W_gc_1', 'b_gc_1', 'W_bi_1', 'b_bi_1', 'W_mlp_1', 'b_mlp_1', 'W_gc_2', 'b_gc_2', 'W_bi_2', 'b_bi_2', 'W_mlp_2', 'b_mlp_2', 'W_gc_3', 'b_gc_3', 'W_bi_3', 'b_bi_3', 'W_mlp_3', 'b_mlp_3'])\n",
            "52642\n"
          ],
          "name": "stdout"
        }
      ]
    }
  ]
}