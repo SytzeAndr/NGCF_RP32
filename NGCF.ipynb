{
  "nbformat": 4,
  "nbformat_minor": 0,
  "metadata": {
    "colab": {
      "name": "NGCF.ipynb",
      "provenance": [],
      "include_colab_link": true
    },
    "kernelspec": {
      "name": "python3",
      "display_name": "Python 3"
    }
  },
  "cells": [
    {
      "cell_type": "markdown",
      "metadata": {
        "id": "view-in-github",
        "colab_type": "text"
      },
      "source": [
        "<a href=\"https://colab.research.google.com/github/SytzeAndr/NGCF_RP32/blob/master/NGCF.ipynb\" target=\"_parent\"><img src=\"https://colab.research.google.com/assets/colab-badge.svg\" alt=\"Open In Colab\"/></a>"
      ]
    },
    {
      "cell_type": "code",
      "metadata": {
        "id": "9Yt4bUlkamn5",
        "colab_type": "code",
        "colab": {}
      },
      "source": [
        "import numpy as np\n",
        "import random as rd\n",
        "from google.colab import drive"
      ],
      "execution_count": 0,
      "outputs": []
    },
    {
      "cell_type": "markdown",
      "metadata": {
        "id": "Ni4rEp2I06Rd",
        "colab_type": "text"
      },
      "source": [
        "**File loading**\n",
        "\n",
        "Here we use the Google Drive mountpoint to load files. For this to work, note the following:\n",
        "\n",
        "\n",
        "\n",
        "*   The first time you execute this, it will provide a link, which you need to follow and give permission for Colab to access your Google Drive.\n",
        "*   Make sure that the data is located in the folder `RP_data` which should be located in the root of your Drive."
      ]
    },
    {
      "cell_type": "code",
      "metadata": {
        "id": "-GuQIsFhz_O6",
        "colab_type": "code",
        "outputId": "76e79e99-a6e5-4cf0-bde5-b4d5224bc991",
        "colab": {
          "base_uri": "https://localhost:8080/",
          "height": 55
        }
      },
      "source": [
        "drive.mount('/content/drive')\n",
        "data_path = './drive/My Drive/RP_data'"
      ],
      "execution_count": 17,
      "outputs": [
        {
          "output_type": "stream",
          "text": [
            "Drive already mounted at /content/drive; to attempt to forcibly remount, call drive.mount(\"/content/drive\", force_remount=True).\n"
          ],
          "name": "stdout"
        }
      ]
    },
    {
      "cell_type": "markdown",
      "metadata": {
        "id": "aFlr-rxYnsid",
        "colab_type": "text"
      },
      "source": [
        "**DataReader class**\n",
        "\n",
        "The DataReader class is a utility class that will help loading the data, compute useful properties of the data and create sample batches."
      ]
    },
    {
      "cell_type": "code",
      "metadata": {
        "colab_type": "code",
        "id": "20UOLdQ9rdyX",
        "colab": {}
      },
      "source": [
        "class DataReader(object):\n",
        "  def __init__(self, path='./drive/My Drive/RP_data', batch_size=100):\n",
        "    self.path = path\n",
        "    self.batch_size = batch_size\n",
        "\n",
        "    train_file = path + '/train.txt'\n",
        "    test_file = path + '/test.txt'\n",
        "\n",
        "    self.n_train = 0\n",
        "    self.n_test = 0\n",
        "    self.exist_users = []\n",
        "    self.train_items = {}\n",
        "    self.test_items = {}\n",
        "\n",
        "    with open(train_file) as f:\n",
        "      for l in f.readlines():\n",
        "        if len(l) > 0:\n",
        "          l = l.strip('\\n')\n",
        "          items = [int(i) for i in l.split(' ')]\n",
        "          uid, train_items = items[0], items[1:]\n",
        "          self.exist_users.append(uid)\n",
        "          self.train_items[uid] = train_items\n",
        "          self.n_train += len(train_items)\n",
        "\n",
        "    with open(test_file) as f:\n",
        "      for l in f.readlines():\n",
        "        if len(l) > 0:\n",
        "          l = l.strip('\\n')\n",
        "          try:\n",
        "            items = [int(i) for i in l.split(' ')]\n",
        "            uid, test_items = items[0], items[1:]\n",
        "            self.exist_users.append(uid)\n",
        "            self.test_items[uid] = test_items\n",
        "            self.n_test += len(test_items)\n",
        "          except Exception:\n",
        "            continue\n",
        "\n",
        "    train_max_item = max([max(items) for items in list(self.train_items.values())])\n",
        "    test_max_item = max([max(items) for items in list(self.test_items.values())])\n",
        "    self.n_items = max(train_max_item, test_max_item)\n",
        "    self.n_users = max(self.exist_users)\n",
        "  \n",
        "\n",
        "  def sample(self):\n",
        "    if self.batch_size <= self.n_users:\n",
        "      users = rd.sample(self.exist_users, self.batch_size)\n",
        "    else:\n",
        "      users = [rd.choice(self.exist_users) for _ in range(self.batch_size)]\n",
        "\n",
        "\n",
        "    def sample_pos_items_for_u(u, num):\n",
        "      pos_items = self.train_items[u]\n",
        "      n_pos_items = len(pos_items)\n",
        "      pos_batch = []\n",
        "      while True:\n",
        "        if len(pos_batch) == num: break\n",
        "        pos_id = np.random.randint(low=0, high=n_pos_items, size=1)[0]\n",
        "        pos_i_id = pos_items[pos_id]\n",
        "\n",
        "        if pos_i_id not in pos_batch:\n",
        "          pos_batch.append(pos_i_id)\n",
        "      return pos_batch\n",
        "\n",
        "\n",
        "    def sample_neg_items_for_u(u, num):\n",
        "      neg_batch = []\n",
        "      while True:\n",
        "        if len(neg_batch) == num: break\n",
        "        neg_id = np.random.randint(low=0, high=self.n_items, size=1)[0]\n",
        "        if neg_id not in self.train_items[u] and neg_id not in neg_batch:\n",
        "          neg_batch.append(neg_id)\n",
        "      return neg_batch\n",
        "    \n",
        "\n",
        "    pos_items, neg_items = [], []\n",
        "    for u in users:\n",
        "      pos_items += sample_pos_items_for_u(u, 1)\n",
        "      neg_items += sample_neg_items_for_u(u, 1)\n",
        "\n",
        "    return users, pos_items, neg_items\n"
      ],
      "execution_count": 0,
      "outputs": []
    },
    {
      "cell_type": "code",
      "metadata": {
        "id": "P2iFaHvdvc8J",
        "colab_type": "code",
        "outputId": "44260c2b-aa08-454a-d0ee-07bed25af88b",
        "colab": {
          "base_uri": "https://localhost:8080/",
          "height": 72
        }
      },
      "source": [
        "# small test to verify whether we can load data\n",
        "dataReader = DataReader(data_path, 10)\n",
        "dataReader.sample()"
      ],
      "execution_count": 9,
      "outputs": [
        {
          "output_type": "execute_result",
          "data": {
            "text/plain": [
              "([50482, 6047, 46408, 6515, 13980, 19365, 22653, 51054, 33271, 51850],\n",
              " [57054, 51777, 32403, 924, 3076, 17585, 10362, 82674, 52365, 48920],\n",
              " [49145, 89035, 15884, 68525, 82618, 70079, 77642, 78705, 15443, 31528])"
            ]
          },
          "metadata": {
            "tags": []
          },
          "execution_count": 9
        }
      ]
    },
    {
      "cell_type": "markdown",
      "metadata": {
        "id": "frx1uCxdNYWU",
        "colab_type": "text"
      },
      "source": [
        "#The steps to take\n",
        "As a rough outline, we can sketch the steps to be taken to train a Neural Graph Collaborative Filtering system as follows. \n",
        "1. Create a user-item interaction graph from our data.\n",
        "2. Perform message constructing by implementing the message passing formula, which defines the relations between users and items. We then use message aggregation to create a representation for each user, which defines our first-order propagation. \n",
        "3. Use the representations from the first order-representation to create higher order representations.\n",
        "4. Use embeddings obtained from our L layers to train a neural network, using theory about graph neural networks.\n",
        "5. Make a prediction on our test sets and measure the recall and normalized discounted cumulative gain (ndcg), which should produce a table.\n"
      ]
    },
    {
      "cell_type": "markdown",
      "metadata": {
        "id": "tn_xzVLBUaMS",
        "colab_type": "text"
      },
      "source": [
        "# step 1\n",
        "The initial embedding is already performed in the data sets and thus we can consider to already have our embedding table. In the paper's work, it is explained that in their NGCF framework the embeddings are refined by propagating them on the user-item interaction graph. \n",
        "\n",
        "This implies that we need to construct an interaction graph, and update its weights according to the message construction/message aggregation functions."
      ]
    },
    {
      "cell_type": "markdown",
      "metadata": {
        "id": "3z0bqsE0VsKc",
        "colab_type": "text"
      },
      "source": [
        "By using PyTorch and PyTorch Geometric (PyG) we are able to construct a graph neural network and perform various operations. We are planning to use this framework. \n",
        "\n",
        "## GCN with torch_geometric (PyG)\n",
        "Some of its steps are described in this blog post:\n",
        "https://towardsdatascience.com/hands-on-graph-neural-networks-with-pytorch-pytorch-geometric-359487e221a8\n",
        "\n",
        "There is also a google colab which trains a GCN to identify 'spammers'\n",
        "https://colab.research.google.com/github/zaidalyafeai/Notebooks/blob/master/Deep_GCN_Spam.ipynb#scrollTo=_4_eVOI2M4Uo"
      ]
    },
    {
      "cell_type": "markdown",
      "metadata": {
        "id": "4sUDqw3zY7AD",
        "colab_type": "text"
      },
      "source": [
        "**Importing torch_geometric 1.3.2**\n",
        "\n",
        "`torch_geometric` is a geometric deep learning extension library for PyTorch. We don't use the latest version (loaded by default by google colab) due to inconsistencies with PyTorch. This also means we have to downgrade a few other packages aswell."
      ]
    },
    {
      "cell_type": "code",
      "metadata": {
        "id": "m23H3JzIjE8E",
        "colab_type": "code",
        "outputId": "790e1520-b96f-42ff-c742-4b7a5c81171d",
        "colab": {
          "base_uri": "https://localhost:8080/",
          "height": 146
        }
      },
      "source": [
        "pip install torch===1.2.0 torchvision===0.4.0 -f https://download.pytorch.org/whl/torch_stable.html"
      ],
      "execution_count": 48,
      "outputs": [
        {
          "output_type": "stream",
          "text": [
            "Looking in links: https://download.pytorch.org/whl/torch_stable.html\n",
            "Requirement already satisfied: torch===1.2.0 in /usr/local/lib/python3.6/dist-packages (1.2.0)\n",
            "Requirement already satisfied: torchvision===0.4.0 in /usr/local/lib/python3.6/dist-packages (0.4.0)\n",
            "Requirement already satisfied: numpy in /usr/local/lib/python3.6/dist-packages (from torch===1.2.0) (1.18.1)\n",
            "Requirement already satisfied: pillow>=4.1.1 in /usr/local/lib/python3.6/dist-packages (from torchvision===0.4.0) (7.0.0)\n",
            "Requirement already satisfied: six in /usr/local/lib/python3.6/dist-packages (from torchvision===0.4.0) (1.12.0)\n"
          ],
          "name": "stdout"
        }
      ]
    },
    {
      "cell_type": "code",
      "metadata": {
        "id": "MfAzbMDlfg93",
        "colab_type": "code",
        "outputId": "ca7eb4f4-5e50-4763-8779-6f3af8b71cf8",
        "colab": {
          "base_uri": "https://localhost:8080/",
          "height": 35
        }
      },
      "source": [
        "import torch\n",
        "# we use torch version 1.2.0 instead of the latest due to dependency errors\n",
        "print(torch.__version__)"
      ],
      "execution_count": 10,
      "outputs": [
        {
          "output_type": "stream",
          "text": [
            "1.2.0\n"
          ],
          "name": "stdout"
        }
      ]
    },
    {
      "cell_type": "code",
      "metadata": {
        "id": "0mo9WkaqnqEI",
        "colab_type": "code",
        "outputId": "07603d69-bfc6-4157-ab53-d960e5fa8887",
        "colab": {
          "base_uri": "https://localhost:8080/",
          "height": 582
        }
      },
      "source": [
        "# these were the corresponding versions for torch-geometric 1.3.2, released 4 oct 2019, which runs on torch 1.2.0.\n",
        "# grab some coffee, this might take a while\n",
        "!pip install torch-scatter==1.3.1\n",
        "!pip install torch-sparse==0.4.0\n",
        "!pip install torch-cluster==1.4.4\n",
        "!pip install torch-spline-conv==1.1.0\n",
        "!pip install torch-geometric==1.3.2"
      ],
      "execution_count": 7,
      "outputs": [
        {
          "output_type": "stream",
          "text": [
            "Requirement already satisfied: torch-scatter==1.3.1 in /usr/local/lib/python3.6/dist-packages (1.3.1)\n",
            "Requirement already satisfied: torch-sparse==0.4.0 in /usr/local/lib/python3.6/dist-packages (0.4.0)\n",
            "Requirement already satisfied: scipy in /usr/local/lib/python3.6/dist-packages (from torch-sparse==0.4.0) (1.4.1)\n",
            "Requirement already satisfied: numpy>=1.13.3 in /usr/local/lib/python3.6/dist-packages (from scipy->torch-sparse==0.4.0) (1.18.1)\n",
            "Requirement already satisfied: torch-cluster==1.4.4 in /usr/local/lib/python3.6/dist-packages (1.4.4)\n",
            "Requirement already satisfied: scipy in /usr/local/lib/python3.6/dist-packages (from torch-cluster==1.4.4) (1.4.1)\n",
            "Requirement already satisfied: numpy>=1.13.3 in /usr/local/lib/python3.6/dist-packages (from scipy->torch-cluster==1.4.4) (1.18.1)\n",
            "Requirement already satisfied: torch-spline-conv==1.1.0 in /usr/local/lib/python3.6/dist-packages (1.1.0)\n",
            "Requirement already satisfied: torch-geometric==1.3.2 in /usr/local/lib/python3.6/dist-packages (1.3.2)\n",
            "Requirement already satisfied: numpy in /usr/local/lib/python3.6/dist-packages (from torch-geometric==1.3.2) (1.18.1)\n",
            "Requirement already satisfied: rdflib in /usr/local/lib/python3.6/dist-packages (from torch-geometric==1.3.2) (4.2.2)\n",
            "Requirement already satisfied: googledrivedownloader in /usr/local/lib/python3.6/dist-packages (from torch-geometric==1.3.2) (0.4)\n",
            "Requirement already satisfied: scikit-learn in /usr/local/lib/python3.6/dist-packages (from torch-geometric==1.3.2) (0.22.2.post1)\n",
            "Requirement already satisfied: h5py in /usr/local/lib/python3.6/dist-packages (from torch-geometric==1.3.2) (2.8.0)\n",
            "Requirement already satisfied: scipy in /usr/local/lib/python3.6/dist-packages (from torch-geometric==1.3.2) (1.4.1)\n",
            "Requirement already satisfied: pandas in /usr/local/lib/python3.6/dist-packages (from torch-geometric==1.3.2) (0.25.3)\n",
            "Requirement already satisfied: networkx in /usr/local/lib/python3.6/dist-packages (from torch-geometric==1.3.2) (2.4)\n",
            "Requirement already satisfied: requests in /usr/local/lib/python3.6/dist-packages (from torch-geometric==1.3.2) (2.21.0)\n",
            "Requirement already satisfied: plyfile in /usr/local/lib/python3.6/dist-packages (from torch-geometric==1.3.2) (0.7.1)\n",
            "Requirement already satisfied: isodate in /usr/local/lib/python3.6/dist-packages (from rdflib->torch-geometric==1.3.2) (0.6.0)\n",
            "Requirement already satisfied: pyparsing in /usr/local/lib/python3.6/dist-packages (from rdflib->torch-geometric==1.3.2) (2.4.6)\n",
            "Requirement already satisfied: joblib>=0.11 in /usr/local/lib/python3.6/dist-packages (from scikit-learn->torch-geometric==1.3.2) (0.14.1)\n",
            "Requirement already satisfied: six in /usr/local/lib/python3.6/dist-packages (from h5py->torch-geometric==1.3.2) (1.12.0)\n",
            "Requirement already satisfied: pytz>=2017.2 in /usr/local/lib/python3.6/dist-packages (from pandas->torch-geometric==1.3.2) (2018.9)\n",
            "Requirement already satisfied: python-dateutil>=2.6.1 in /usr/local/lib/python3.6/dist-packages (from pandas->torch-geometric==1.3.2) (2.8.1)\n",
            "Requirement already satisfied: decorator>=4.3.0 in /usr/local/lib/python3.6/dist-packages (from networkx->torch-geometric==1.3.2) (4.4.2)\n",
            "Requirement already satisfied: urllib3<1.25,>=1.21.1 in /usr/local/lib/python3.6/dist-packages (from requests->torch-geometric==1.3.2) (1.24.3)\n",
            "Requirement already satisfied: certifi>=2017.4.17 in /usr/local/lib/python3.6/dist-packages (from requests->torch-geometric==1.3.2) (2019.11.28)\n",
            "Requirement already satisfied: idna<2.9,>=2.5 in /usr/local/lib/python3.6/dist-packages (from requests->torch-geometric==1.3.2) (2.8)\n",
            "Requirement already satisfied: chardet<3.1.0,>=3.0.2 in /usr/local/lib/python3.6/dist-packages (from requests->torch-geometric==1.3.2) (3.0.4)\n"
          ],
          "name": "stdout"
        }
      ]
    },
    {
      "cell_type": "code",
      "metadata": {
        "id": "ErcV2T7PWLDd",
        "colab_type": "code",
        "colab": {}
      },
      "source": [
        "import torch\n",
        "import torch_geometric\n"
      ],
      "execution_count": 0,
      "outputs": []
    },
    {
      "cell_type": "code",
      "metadata": {
        "id": "Yp8OSLE3qZnC",
        "colab_type": "code",
        "outputId": "424fde24-f96e-4fb9-bf2f-9d63dce95f0b",
        "colab": {
          "base_uri": "https://localhost:8080/",
          "height": 35
        }
      },
      "source": [
        "# verify that torch geometric is imported, should be 1.3.2\n",
        "print(torch_geometric.__version__)"
      ],
      "execution_count": 9,
      "outputs": [
        {
          "output_type": "stream",
          "text": [
            "1.3.2\n"
          ],
          "name": "stdout"
        }
      ]
    },
    {
      "cell_type": "markdown",
      "metadata": {
        "id": "vsVTP8uXrkNV",
        "colab_type": "text"
      },
      "source": [
        "**Creating the interaction graph**\n",
        "\n",
        "First we create an interaction graph. The Data object from torch_geometric represents a graph structure, and as such, we should create one given our data."
      ]
    },
    {
      "cell_type": "code",
      "metadata": {
        "id": "u9VJLYk9KvHg",
        "colab_type": "code",
        "colab": {}
      },
      "source": [
        "from torch_geometric.data import Data\n",
        "\n",
        "# get data\n",
        "batch_length = 10\n",
        "dataReader = DataReader()\n",
        "edges = []\n",
        "# define an edge for every user and item\n",
        "for user in range(dataReader.n_users):\n",
        "  pos_items = dataReader.train_items[user]\n",
        "  for item in pos_items:\n",
        "    # increase the item id by the number of users to distinct the nodes from users\n",
        "    edges.append([user, item + dataReader.n_users])\n",
        "    edges.append([item + dataReader.n_users, user])\n",
        "\n",
        "# following example from https://pytorch-geometric.readthedocs.io/en/latest/notes/introduction.html\n",
        "edge_index = torch.tensor(edges, dtype=torch.long).t().contiguous()\n",
        "\n",
        "# we can extend x with any number of features we want.\n",
        "# for now, we only have it include its corresponding userid or itemid, but we might want to extend this\n",
        "x = torch.tensor(list(range(dataReader.n_users)) + list(range(dataReader.n_items)), dtype=torch.long)\n",
        "\n",
        "# data is a representation of the directed graph\n",
        "data = Data(x=x, edge_index=edge_index)\n",
        "\n"
      ],
      "execution_count": 0,
      "outputs": []
    },
    {
      "cell_type": "markdown",
      "metadata": {
        "id": "mLD-yhQHDHel",
        "colab_type": "text"
      },
      "source": [
        "Data is a representation of our interaction graph"
      ]
    },
    {
      "cell_type": "code",
      "metadata": {
        "id": "pBcxk1KyA9zn",
        "colab_type": "code",
        "colab": {
          "base_uri": "https://localhost:8080/",
          "height": 126
        },
        "outputId": "d9f3c775-3312-475e-ed66-0992d7637d57"
      },
      "source": [
        "# torch_geometric.data.Data provides a number of utility functions\n",
        "# these prints are a check to verify if our graph seems valid\n",
        "print(data.is_undirected())\n",
        "print(data.is_directed())\n",
        "print(data.num_edges)\n",
        "print(data.num_nodes)\n",
        "print(data.contains_isolated_nodes())\n",
        "print(data.contains_self_loops())"
      ],
      "execution_count": 47,
      "outputs": [
        {
          "output_type": "stream",
          "text": [
            "True\n",
            "False\n",
            "4761412\n",
            "144240\n",
            "False\n",
            "False\n"
          ],
          "name": "stdout"
        }
      ]
    },
    {
      "cell_type": "markdown",
      "metadata": {
        "id": "KDlCsjl7Spjl",
        "colab_type": "text"
      },
      "source": [
        "# step 2\n",
        "For each user-item pair (u,i), we define the message from i to u as\n",
        "\n",
        "$m_{u \\leftarrow i} = \\dfrac{1}{\\sqrt{|N_u||N_i|}} (W_1 e_i + W_2(e_i \\odot e_u))$\n",
        "\n",
        "Where $N_u, N_i$ are the first hop neighbors of $u$ and $i$, $W_1, W_2$ are trainable weight matrices to distill useful information for propagation, and $e_i$ and $e_u$ are embeddings of the users and items."
      ]
    },
    {
      "cell_type": "markdown",
      "metadata": {
        "id": "krx6lfTGEqB7",
        "colab_type": "text"
      },
      "source": [
        "Message passing, constructing and aggregation aswell as training neural networks is all included in the `torch_geometric` package.\n",
        "\n",
        "\n",
        "https://pytorch-geometric.readthedocs.io/en/latest/modules/nn.html"
      ]
    },
    {
      "cell_type": "code",
      "metadata": {
        "id": "8fbSwP8zEsbI",
        "colab_type": "code",
        "colab": {}
      },
      "source": [
        "from torch_geometric.nn import MessagePassing"
      ],
      "execution_count": 0,
      "outputs": []
    },
    {
      "cell_type": "markdown",
      "metadata": {
        "id": "S4xtsOWbHSkO",
        "colab_type": "text"
      },
      "source": [
        "**todo: it is not entirely clear for me how to set the initial embeddings from the given data. according to the paper the \"embedding table serves as an initial state for user embeddings and item embeddings to be optimized in an end-to-end fashion\"**"
      ]
    },
    {
      "cell_type": "code",
      "metadata": {
        "id": "7HZvQZG9H2bb",
        "colab_type": "code",
        "colab": {}
      },
      "source": [
        ""
      ],
      "execution_count": 0,
      "outputs": []
    }
  ]
}